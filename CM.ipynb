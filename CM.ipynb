{
  "nbformat": 4,
  "nbformat_minor": 0,
  "metadata": {
    "colab": {
      "name": "CM.ipynb",
      "provenance": [],
      "collapsed_sections": [],
      "authorship_tag": "ABX9TyMf27kbomdRshi34UQj/Rd2",
      "include_colab_link": true
    },
    "kernelspec": {
      "name": "python3",
      "display_name": "Python 3"
    },
    "language_info": {
      "name": "python"
    }
  },
  "cells": [
    {
      "cell_type": "markdown",
      "metadata": {
        "id": "view-in-github",
        "colab_type": "text"
      },
      "source": [
        "<a href=\"https://colab.research.google.com/github/ahmtcnbs/Machine-Learning-Projects/blob/main/CM.ipynb\" target=\"_parent\"><img src=\"https://colab.research.google.com/assets/colab-badge.svg\" alt=\"Open In Colab\"/></a>"
      ]
    },
    {
      "cell_type": "code",
      "metadata": {
        "id": "sUV_Z3lv2yz9"
      },
      "source": [
        "from sklearn.svm import SVC\n",
        "sc = SVC(C=1000, kernel='rbf',gamma=0.0001)\n",
        "sc.fit(X_train,y_train)\n",
        "svc_y_pred = sc.fit(X_train, y_train).predict(X_test)\n",
        "print(classification_report(y_test, svc_y_pred))\n",
        "\n",
        "confusion_matrix(y_test, svc_y_pred)\n",
        "\n",
        "tp = confusion_matrix(y_test, svc_y_pred)[:1,:1] # TP\n",
        "fp = confusion_matrix(y_test, svc_y_pred)[:1,1:2] # FP\n",
        "fn = confusion_matrix(y_test, svc_y_pred)[1:2,:1] # FN\n",
        "tn = confusion_matrix(y_test, svc_y_pred)[1:2,1:2] #TN\n",
        "act_true = tp+fn\n",
        "act_false = fp+tn\n",
        "pred_true = tp+fp\n",
        "pred_false =fn+tn\n",
        "total = tp+fp+fn+tn\n",
        "acc = (tp+tn)/total\n",
        "tp_rate = tp/act_true\n",
        "fp_rate = fp/act_false\n",
        "specificity = tn/act_false\n",
        "precision = tp/pred_true\n",
        "prevalence = act_true/total\n",
        "f1_score = (2*tp)/((2*tp)+fp+fn)\n",
        "\n",
        "conf = {'Accuracy': acc,\n",
        "        'TP Rate':tp_rate,\n",
        "        'FP Rate':fp_rate,\n",
        "        'Sprecificity':specificity,\n",
        "        'Precision':precision,\n",
        "        'Prevalence':prevalence,\n",
        "        'F1 Score':f1_score}\n",
        "\n",
        "svmcm = pd.DataFrame(conf.keys(),conf.values())"
      ],
      "execution_count": null,
      "outputs": []
    }
  ]
}