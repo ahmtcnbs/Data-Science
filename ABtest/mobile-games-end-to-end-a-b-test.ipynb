{
 "cells": [
  {
   "cell_type": "code",
   "execution_count": 1,
   "id": "protecting-hybrid",
   "metadata": {
    "execution": {
     "iopub.execute_input": "2021-05-24T19:34:12.631382Z",
     "iopub.status.busy": "2021-05-24T19:34:12.630357Z",
     "iopub.status.idle": "2021-05-24T19:34:13.434546Z",
     "shell.execute_reply": "2021-05-24T19:34:13.435030Z",
     "shell.execute_reply.started": "2021-05-24T19:28:02.084731Z"
    },
    "papermill": {
     "duration": 0.826087,
     "end_time": "2021-05-24T19:34:13.435301",
     "exception": false,
     "start_time": "2021-05-24T19:34:12.609214",
     "status": "completed"
    },
    "tags": []
   },
   "outputs": [
    {
     "name": "stdout",
     "output_type": "stream",
     "text": [
      "/kaggle/input/mobile-games-ab-testing/cookie_cats.csv\n"
     ]
    }
   ],
   "source": [
    "# Base Libraries\n",
    "\n",
    "import numpy as np\n",
    "import pandas as pd\n",
    "import matplotlib.pyplot as plt\n",
    "import seaborn as sns\n",
    "sns.set_theme(style='darkgrid')\n",
    "import missingno as msno\n",
    "\n",
    "# Hypothesis Tests\n",
    "# Normality Test\n",
    "from scipy.stats import shapiro\n",
    "\n",
    "# Variance Homogeneity Test\n",
    "from scipy.stats import levene\n",
    "\n",
    "# Test\n",
    "from scipy.stats import mannwhitneyu\n",
    "from scipy.stats import ttest_ind\n",
    "from scipy import stats\n",
    "\n",
    "import pylab\n",
    "\n",
    "# Configuration\n",
    "import os\n",
    "for dirname, _, filenames in os.walk('/kaggle/input'):\n",
    "    for filename in filenames:\n",
    "        print(os.path.join(dirname, filename))\n",
    "        \n",
    "import warnings\n",
    "warnings.filterwarnings(\"ignore\")\n",
    "warnings.simplefilter(action='ignore', category=FutureWarning)\n",
    "        \n",
    "pd.set_option('display.max_columns', None)\n",
    "pd.options.display.float_format = '{:.4f}'.format"
   ]
  },
  {
   "cell_type": "code",
   "execution_count": 2,
   "id": "reported-pollution",
   "metadata": {
    "execution": {
     "iopub.execute_input": "2021-05-24T19:34:13.474054Z",
     "iopub.status.busy": "2021-05-24T19:34:13.473443Z",
     "iopub.status.idle": "2021-05-24T19:34:13.579093Z",
     "shell.execute_reply": "2021-05-24T19:34:13.578563Z",
     "shell.execute_reply.started": "2021-05-24T19:06:37.529623Z"
    },
    "papermill": {
     "duration": 0.126612,
     "end_time": "2021-05-24T19:34:13.579225",
     "exception": false,
     "start_time": "2021-05-24T19:34:13.452613",
     "status": "completed"
    },
    "tags": []
   },
   "outputs": [
    {
     "data": {
      "text/html": [
       "<div>\n",
       "<style scoped>\n",
       "    .dataframe tbody tr th:only-of-type {\n",
       "        vertical-align: middle;\n",
       "    }\n",
       "\n",
       "    .dataframe tbody tr th {\n",
       "        vertical-align: top;\n",
       "    }\n",
       "\n",
       "    .dataframe thead th {\n",
       "        text-align: right;\n",
       "    }\n",
       "</style>\n",
       "<table border=\"1\" class=\"dataframe\">\n",
       "  <thead>\n",
       "    <tr style=\"text-align: right;\">\n",
       "      <th></th>\n",
       "      <th>userid</th>\n",
       "      <th>version</th>\n",
       "      <th>sum_gamerounds</th>\n",
       "      <th>retention_1</th>\n",
       "      <th>retention_7</th>\n",
       "    </tr>\n",
       "  </thead>\n",
       "  <tbody>\n",
       "    <tr>\n",
       "      <th>0</th>\n",
       "      <td>116</td>\n",
       "      <td>gate_30</td>\n",
       "      <td>3</td>\n",
       "      <td>False</td>\n",
       "      <td>False</td>\n",
       "    </tr>\n",
       "    <tr>\n",
       "      <th>1</th>\n",
       "      <td>337</td>\n",
       "      <td>gate_30</td>\n",
       "      <td>38</td>\n",
       "      <td>True</td>\n",
       "      <td>False</td>\n",
       "    </tr>\n",
       "    <tr>\n",
       "      <th>2</th>\n",
       "      <td>377</td>\n",
       "      <td>gate_40</td>\n",
       "      <td>165</td>\n",
       "      <td>True</td>\n",
       "      <td>False</td>\n",
       "    </tr>\n",
       "    <tr>\n",
       "      <th>3</th>\n",
       "      <td>483</td>\n",
       "      <td>gate_40</td>\n",
       "      <td>1</td>\n",
       "      <td>False</td>\n",
       "      <td>False</td>\n",
       "    </tr>\n",
       "    <tr>\n",
       "      <th>4</th>\n",
       "      <td>488</td>\n",
       "      <td>gate_40</td>\n",
       "      <td>179</td>\n",
       "      <td>True</td>\n",
       "      <td>True</td>\n",
       "    </tr>\n",
       "  </tbody>\n",
       "</table>\n",
       "</div>"
      ],
      "text/plain": [
       "   userid  version  sum_gamerounds  retention_1  retention_7\n",
       "0     116  gate_30               3        False        False\n",
       "1     337  gate_30              38         True        False\n",
       "2     377  gate_40             165         True        False\n",
       "3     483  gate_40               1        False        False\n",
       "4     488  gate_40             179         True         True"
      ]
     },
     "execution_count": 2,
     "metadata": {},
     "output_type": "execute_result"
    }
   ],
   "source": [
    "df = pd.read_csv('../input/mobile-games-ab-testing/cookie_cats.csv')\n",
    "df.head()"
   ]
  },
  {
   "cell_type": "markdown",
   "id": "sound-medicare",
   "metadata": {
    "papermill": {
     "duration": 0.016931,
     "end_time": "2021-05-24T19:34:13.613750",
     "exception": false,
     "start_time": "2021-05-24T19:34:13.596819",
     "status": "completed"
    },
    "tags": []
   },
   "source": [
    "<ul>\n",
    "<li><code>userid</code> - a unique number that identifies each player.</li>\n",
    "<li><code>version</code> - whether the player was put in the control group (<code>gate_30</code> - a gate at level 30) or the test group (<code>gate_40</code> - a gate at level 40).</li>\n",
    "<li><code>sum_gamerounds</code> - the number of game rounds played by the player during the first week after installation\n",
    "<li><code>retention_1</code> - did the player come back and play 1 day after installing?</li>\n",
    "<li><code>retention_7</code> - did the player come back and play 7 days after installing?</li>\n",
    "</ul>"
   ]
  },
  {
   "cell_type": "code",
   "execution_count": 3,
   "id": "radical-southeast",
   "metadata": {
    "execution": {
     "iopub.execute_input": "2021-05-24T19:34:13.656510Z",
     "iopub.status.busy": "2021-05-24T19:34:13.653083Z",
     "iopub.status.idle": "2021-05-24T19:34:13.673468Z",
     "shell.execute_reply": "2021-05-24T19:34:13.673957Z",
     "shell.execute_reply.started": "2021-05-24T19:06:38.558507Z"
    },
    "papermill": {
     "duration": 0.042998,
     "end_time": "2021-05-24T19:34:13.674120",
     "exception": false,
     "start_time": "2021-05-24T19:34:13.631122",
     "status": "completed"
    },
    "tags": []
   },
   "outputs": [
    {
     "name": "stdout",
     "output_type": "stream",
     "text": [
      "<class 'pandas.core.frame.DataFrame'>\n",
      "RangeIndex: 90189 entries, 0 to 90188\n",
      "Data columns (total 5 columns):\n",
      " #   Column          Non-Null Count  Dtype \n",
      "---  ------          --------------  ----- \n",
      " 0   userid          90189 non-null  int64 \n",
      " 1   version         90189 non-null  object\n",
      " 2   sum_gamerounds  90189 non-null  int64 \n",
      " 3   retention_1     90189 non-null  bool  \n",
      " 4   retention_7     90189 non-null  bool  \n",
      "dtypes: bool(2), int64(2), object(1)\n",
      "memory usage: 2.2+ MB\n"
     ]
    }
   ],
   "source": [
    "df.info()"
   ]
  },
  {
   "cell_type": "code",
   "execution_count": 4,
   "id": "functional-mainland",
   "metadata": {
    "execution": {
     "iopub.execute_input": "2021-05-24T19:34:13.715301Z",
     "iopub.status.busy": "2021-05-24T19:34:13.714300Z",
     "iopub.status.idle": "2021-05-24T19:34:13.726300Z",
     "shell.execute_reply": "2021-05-24T19:34:13.726809Z",
     "shell.execute_reply.started": "2021-05-24T19:06:38.909542Z"
    },
    "papermill": {
     "duration": 0.034519,
     "end_time": "2021-05-24T19:34:13.726965",
     "exception": false,
     "start_time": "2021-05-24T19:34:13.692446",
     "status": "completed"
    },
    "tags": []
   },
   "outputs": [
    {
     "data": {
      "text/plain": [
       "count   90189.0000\n",
       "mean       51.8725\n",
       "std       195.0509\n",
       "min         0.0000\n",
       "25%         5.0000\n",
       "50%        16.0000\n",
       "75%        51.0000\n",
       "max     49854.0000\n",
       "Name: sum_gamerounds, dtype: float64"
      ]
     },
     "execution_count": 4,
     "metadata": {},
     "output_type": "execute_result"
    }
   ],
   "source": [
    "df.sum_gamerounds.describe()"
   ]
  },
  {
   "cell_type": "markdown",
   "id": "agricultural-wisdom",
   "metadata": {
    "papermill": {
     "duration": 0.017216,
     "end_time": "2021-05-24T19:34:13.761900",
     "exception": false,
     "start_time": "2021-05-24T19:34:13.744684",
     "status": "completed"
    },
    "tags": []
   },
   "source": [
    "## Missing Values"
   ]
  },
  {
   "cell_type": "code",
   "execution_count": 5,
   "id": "controversial-labor",
   "metadata": {
    "execution": {
     "iopub.execute_input": "2021-05-24T19:34:13.799832Z",
     "iopub.status.busy": "2021-05-24T19:34:13.799237Z",
     "iopub.status.idle": "2021-05-24T19:34:13.809061Z",
     "shell.execute_reply": "2021-05-24T19:34:13.809503Z",
     "shell.execute_reply.started": "2021-05-24T19:06:39.604718Z"
    },
    "papermill": {
     "duration": 0.030142,
     "end_time": "2021-05-24T19:34:13.809651",
     "exception": false,
     "start_time": "2021-05-24T19:34:13.779509",
     "status": "completed"
    },
    "tags": []
   },
   "outputs": [
    {
     "data": {
      "text/plain": [
       "userid            0\n",
       "version           0\n",
       "sum_gamerounds    0\n",
       "retention_1       0\n",
       "retention_7       0\n",
       "dtype: int64"
      ]
     },
     "execution_count": 5,
     "metadata": {},
     "output_type": "execute_result"
    }
   ],
   "source": [
    "df.isnull().sum()"
   ]
  },
  {
   "cell_type": "code",
   "execution_count": 6,
   "id": "applicable-opinion",
   "metadata": {
    "execution": {
     "iopub.execute_input": "2021-05-24T19:34:13.848037Z",
     "iopub.status.busy": "2021-05-24T19:34:13.847501Z",
     "iopub.status.idle": "2021-05-24T19:34:14.313740Z",
     "shell.execute_reply": "2021-05-24T19:34:14.315054Z",
     "shell.execute_reply.started": "2021-05-24T19:06:40.012226Z"
    },
    "papermill": {
     "duration": 0.487564,
     "end_time": "2021-05-24T19:34:14.315300",
     "exception": false,
     "start_time": "2021-05-24T19:34:13.827736",
     "status": "completed"
    },
    "tags": []
   },
   "outputs": [
    {
     "data": {
      "image/png": "[encoded data removed]",
      "text/plain": [
       "<Figure size 1728x720 with 3 Axes>"
      ]
     },
     "metadata": {},
     "output_type": "display_data"
    }
   ],
   "source": [
    "msno.bar(df)\n",
    "plt.show()"
   ]
  },
  {
   "cell_type": "markdown",
   "id": "honey-award",
   "metadata": {
    "papermill": {
     "duration": 0.019424,
     "end_time": "2021-05-24T19:34:14.368448",
     "exception": false,
     "start_time": "2021-05-24T19:34:14.349024",
     "status": "completed"
    },
    "tags": []
   },
   "source": [
    "# Data Visualization"
   ]
  },
  {
   "cell_type": "code",
   "execution_count": 7,
   "id": "accessible-absence",
   "metadata": {
    "execution": {
     "iopub.execute_input": "2021-05-24T19:34:14.443391Z",
     "iopub.status.busy": "2021-05-24T19:34:14.442799Z",
     "iopub.status.idle": "2021-05-24T19:34:14.564473Z",
     "shell.execute_reply": "2021-05-24T19:34:14.564038Z",
     "shell.execute_reply.started": "2021-05-24T19:06:40.671863Z"
    },
    "papermill": {
     "duration": 0.176468,
     "end_time": "2021-05-24T19:34:14.564604",
     "exception": false,
     "start_time": "2021-05-24T19:34:14.388136",
     "status": "completed"
    },
    "tags": []
   },
   "outputs": [
    {
     "name": "stdout",
     "output_type": "stream",
     "text": [
      "gate_40    45489\n",
      "gate_30    44700\n",
      "Name: version, dtype: int64\n"
     ]
    },
    {
     "data": {
      "text/plain": [
       "<AxesSubplot:xlabel='version', ylabel='count'>"
      ]
     },
     "execution_count": 7,
     "metadata": {},
     "output_type": "execute_result"
    },
    {
     "data": {
      "image/png": "[encoded data removed]",
      "text/plain": [
       "<Figure size 432x288 with 1 Axes>"
      ]
     },
     "metadata": {},
     "output_type": "display_data"
    }
   ],
   "source": [
    "# version\n",
    "print(df.version.value_counts())\n",
    "sns.countplot(data=df,x='version')"
   ]
  },
  {
   "cell_type": "code",
   "execution_count": 8,
   "id": "stupid-estonia",
   "metadata": {
    "execution": {
     "iopub.execute_input": "2021-05-24T19:34:14.608904Z",
     "iopub.status.busy": "2021-05-24T19:34:14.608358Z",
     "iopub.status.idle": "2021-05-24T19:34:14.775764Z",
     "shell.execute_reply": "2021-05-24T19:34:14.776213Z",
     "shell.execute_reply.started": "2021-05-24T19:06:40.933584Z"
    },
    "papermill": {
     "duration": 0.191355,
     "end_time": "2021-05-24T19:34:14.776367",
     "exception": false,
     "start_time": "2021-05-24T19:34:14.585012",
     "status": "completed"
    },
    "tags": []
   },
   "outputs": [
    {
     "name": "stdout",
     "output_type": "stream",
     "text": [
      "False    50036\n",
      "True     40153\n",
      "Name: retention_1, dtype: int64\n"
     ]
    },
    {
     "data": {
      "text/plain": [
       "<AxesSubplot:xlabel='retention_1', ylabel='count'>"
      ]
     },
     "execution_count": 8,
     "metadata": {},
     "output_type": "execute_result"
    },
    {
     "data": {
      "image/png": "[encoded data removed]",
      "text/plain": [
       "<Figure size 432x288 with 1 Axes>"
      ]
     },
     "metadata": {},
     "output_type": "display_data"
    }
   ],
   "source": [
    "# retention vs version\n",
    "print(df.retention_1.value_counts())\n",
    "sns.countplot(data=df,x='retention_1', hue='version')"
   ]
  },
  {
   "cell_type": "markdown",
   "id": "otherwise-exercise",
   "metadata": {
    "papermill": {
     "duration": 0.021164,
     "end_time": "2021-05-24T19:34:14.819082",
     "exception": false,
     "start_time": "2021-05-24T19:34:14.797918",
     "status": "completed"
    },
    "tags": []
   },
   "source": [
    "## **Data Analysis**"
   ]
  },
  {
   "cell_type": "code",
   "execution_count": 9,
   "id": "integral-animation",
   "metadata": {
    "execution": {
     "iopub.execute_input": "2021-05-24T19:34:14.868356Z",
     "iopub.status.busy": "2021-05-24T19:34:14.867722Z",
     "iopub.status.idle": "2021-05-24T19:34:14.887213Z",
     "shell.execute_reply": "2021-05-24T19:34:14.886707Z",
     "shell.execute_reply.started": "2021-05-24T19:06:41.560998Z"
    },
    "papermill": {
     "duration": 0.046935,
     "end_time": "2021-05-24T19:34:14.887341",
     "exception": false,
     "start_time": "2021-05-24T19:34:14.840406",
     "status": "completed"
    },
    "tags": []
   },
   "outputs": [
    {
     "data": {
      "text/html": [
       "<div>\n",
       "<style scoped>\n",
       "    .dataframe tbody tr th:only-of-type {\n",
       "        vertical-align: middle;\n",
       "    }\n",
       "\n",
       "    .dataframe tbody tr th {\n",
       "        vertical-align: top;\n",
       "    }\n",
       "\n",
       "    .dataframe thead th {\n",
       "        text-align: right;\n",
       "    }\n",
       "</style>\n",
       "<table border=\"1\" class=\"dataframe\">\n",
       "  <thead>\n",
       "    <tr style=\"text-align: right;\">\n",
       "      <th></th>\n",
       "      <th>count</th>\n",
       "      <th>mean</th>\n",
       "      <th>std</th>\n",
       "      <th>min</th>\n",
       "      <th>1%</th>\n",
       "      <th>10%</th>\n",
       "      <th>50%</th>\n",
       "      <th>80%</th>\n",
       "      <th>90%</th>\n",
       "      <th>95%</th>\n",
       "      <th>99%</th>\n",
       "      <th>max</th>\n",
       "    </tr>\n",
       "  </thead>\n",
       "  <tbody>\n",
       "    <tr>\n",
       "      <th>sum_gamerounds</th>\n",
       "      <td>90189.0000</td>\n",
       "      <td>51.8725</td>\n",
       "      <td>195.0509</td>\n",
       "      <td>0.0000</td>\n",
       "      <td>0.0000</td>\n",
       "      <td>1.0000</td>\n",
       "      <td>16.0000</td>\n",
       "      <td>67.0000</td>\n",
       "      <td>134.0000</td>\n",
       "      <td>221.0000</td>\n",
       "      <td>493.0000</td>\n",
       "      <td>49854.0000</td>\n",
       "    </tr>\n",
       "  </tbody>\n",
       "</table>\n",
       "</div>"
      ],
      "text/plain": [
       "                    count    mean      std    min     1%    10%     50%  \\\n",
       "sum_gamerounds 90189.0000 51.8725 195.0509 0.0000 0.0000 1.0000 16.0000   \n",
       "\n",
       "                   80%      90%      95%      99%        max  \n",
       "sum_gamerounds 67.0000 134.0000 221.0000 493.0000 49854.0000  "
      ]
     },
     "execution_count": 9,
     "metadata": {},
     "output_type": "execute_result"
    }
   ],
   "source": [
    "# Sum_gamerounds\n",
    "df.describe([0.01,0.10,0.50,0.80, 0.90, 0.95, 0.99])[['sum_gamerounds']].T"
   ]
  },
  {
   "cell_type": "code",
   "execution_count": 10,
   "id": "located-wagon",
   "metadata": {
    "execution": {
     "iopub.execute_input": "2021-05-24T19:34:14.935574Z",
     "iopub.status.busy": "2021-05-24T19:34:14.935040Z",
     "iopub.status.idle": "2021-05-24T19:34:14.947002Z",
     "shell.execute_reply": "2021-05-24T19:34:14.947424Z",
     "shell.execute_reply.started": "2021-05-24T19:06:41.845617Z"
    },
    "papermill": {
     "duration": 0.038283,
     "end_time": "2021-05-24T19:34:14.947578",
     "exception": false,
     "start_time": "2021-05-24T19:34:14.909295",
     "status": "completed"
    },
    "tags": []
   },
   "outputs": [
    {
     "name": "stdout",
     "output_type": "stream",
     "text": [
      " Unique User: 90189\n",
      " Total Userid: 90189\n",
      " Result: All users are different.\n"
     ]
    }
   ],
   "source": [
    "# Number of Unique Users\n",
    "print(f' Unique User: {df.userid.nunique()}')\n",
    "print(f' Total Userid: {df.shape[0]}')\n",
    "\n",
    "if df.userid.nunique() == df.shape[0]:\n",
    "    print(' Result: All users are different.')\n",
    "else:\n",
    "    print(' Result: There are the same values.')"
   ]
  },
  {
   "cell_type": "code",
   "execution_count": 11,
   "id": "basic-italian",
   "metadata": {
    "execution": {
     "iopub.execute_input": "2021-05-24T19:34:14.994648Z",
     "iopub.status.busy": "2021-05-24T19:34:14.993719Z",
     "iopub.status.idle": "2021-05-24T19:34:15.014413Z",
     "shell.execute_reply": "2021-05-24T19:34:15.014884Z",
     "shell.execute_reply.started": "2021-05-24T19:06:42.16352Z"
    },
    "papermill": {
     "duration": 0.045858,
     "end_time": "2021-05-24T19:34:15.015049",
     "exception": false,
     "start_time": "2021-05-24T19:34:14.969191",
     "status": "completed"
    },
    "tags": []
   },
   "outputs": [],
   "source": [
    "df.loc[df['version'] == 'gate_30','version'] = 'versionA'\n",
    "df.loc[df['version'] == 'gate_40','version'] = 'versionB'"
   ]
  },
  {
   "cell_type": "code",
   "execution_count": 12,
   "id": "current-corrections",
   "metadata": {
    "execution": {
     "iopub.execute_input": "2021-05-24T19:34:15.067226Z",
     "iopub.status.busy": "2021-05-24T19:34:15.066561Z",
     "iopub.status.idle": "2021-05-24T19:34:15.080224Z",
     "shell.execute_reply": "2021-05-24T19:34:15.079566Z",
     "shell.execute_reply.started": "2021-05-24T19:06:42.531958Z"
    },
    "papermill": {
     "duration": 0.042878,
     "end_time": "2021-05-24T19:34:15.080352",
     "exception": false,
     "start_time": "2021-05-24T19:34:15.037474",
     "status": "completed"
    },
    "tags": []
   },
   "outputs": [],
   "source": [
    "df.loc[df['retention_1'] == False,'retention_1'] = 0\n",
    "df.loc[df['retention_1'] == True,'retention_1'] = 1"
   ]
  },
  {
   "cell_type": "code",
   "execution_count": 13,
   "id": "racial-jefferson",
   "metadata": {
    "execution": {
     "iopub.execute_input": "2021-05-24T19:34:15.129427Z",
     "iopub.status.busy": "2021-05-24T19:34:15.128861Z",
     "iopub.status.idle": "2021-05-24T19:34:15.141429Z",
     "shell.execute_reply": "2021-05-24T19:34:15.140946Z",
     "shell.execute_reply.started": "2021-05-24T19:06:42.979673Z"
    },
    "papermill": {
     "duration": 0.039139,
     "end_time": "2021-05-24T19:34:15.141553",
     "exception": false,
     "start_time": "2021-05-24T19:34:15.102414",
     "status": "completed"
    },
    "tags": []
   },
   "outputs": [],
   "source": [
    "df.loc[df['retention_7'] == False,'retention_7'] = 0\n",
    "df.loc[df['retention_7'] == True,'retention_7'] = 1"
   ]
  },
  {
   "cell_type": "code",
   "execution_count": 14,
   "id": "geographic-guinea",
   "metadata": {
    "execution": {
     "iopub.execute_input": "2021-05-24T19:34:15.188838Z",
     "iopub.status.busy": "2021-05-24T19:34:15.188272Z",
     "iopub.status.idle": "2021-05-24T19:34:15.197302Z",
     "shell.execute_reply": "2021-05-24T19:34:15.197699Z",
     "shell.execute_reply.started": "2021-05-24T19:06:43.309597Z"
    },
    "papermill": {
     "duration": 0.033632,
     "end_time": "2021-05-24T19:34:15.197880",
     "exception": false,
     "start_time": "2021-05-24T19:34:15.164248",
     "status": "completed"
    },
    "tags": []
   },
   "outputs": [
    {
     "data": {
      "text/html": [
       "<div>\n",
       "<style scoped>\n",
       "    .dataframe tbody tr th:only-of-type {\n",
       "        vertical-align: middle;\n",
       "    }\n",
       "\n",
       "    .dataframe tbody tr th {\n",
       "        vertical-align: top;\n",
       "    }\n",
       "\n",
       "    .dataframe thead th {\n",
       "        text-align: right;\n",
       "    }\n",
       "</style>\n",
       "<table border=\"1\" class=\"dataframe\">\n",
       "  <thead>\n",
       "    <tr style=\"text-align: right;\">\n",
       "      <th></th>\n",
       "      <th>userid</th>\n",
       "      <th>version</th>\n",
       "      <th>sum_gamerounds</th>\n",
       "      <th>retention_1</th>\n",
       "      <th>retention_7</th>\n",
       "    </tr>\n",
       "  </thead>\n",
       "  <tbody>\n",
       "    <tr>\n",
       "      <th>0</th>\n",
       "      <td>116</td>\n",
       "      <td>versionA</td>\n",
       "      <td>3</td>\n",
       "      <td>0</td>\n",
       "      <td>0</td>\n",
       "    </tr>\n",
       "    <tr>\n",
       "      <th>1</th>\n",
       "      <td>337</td>\n",
       "      <td>versionA</td>\n",
       "      <td>38</td>\n",
       "      <td>1</td>\n",
       "      <td>0</td>\n",
       "    </tr>\n",
       "    <tr>\n",
       "      <th>2</th>\n",
       "      <td>377</td>\n",
       "      <td>versionB</td>\n",
       "      <td>165</td>\n",
       "      <td>1</td>\n",
       "      <td>0</td>\n",
       "    </tr>\n",
       "    <tr>\n",
       "      <th>3</th>\n",
       "      <td>483</td>\n",
       "      <td>versionB</td>\n",
       "      <td>1</td>\n",
       "      <td>0</td>\n",
       "      <td>0</td>\n",
       "    </tr>\n",
       "    <tr>\n",
       "      <th>4</th>\n",
       "      <td>488</td>\n",
       "      <td>versionB</td>\n",
       "      <td>179</td>\n",
       "      <td>1</td>\n",
       "      <td>1</td>\n",
       "    </tr>\n",
       "  </tbody>\n",
       "</table>\n",
       "</div>"
      ],
      "text/plain": [
       "   userid   version  sum_gamerounds retention_1 retention_7\n",
       "0     116  versionA               3           0           0\n",
       "1     337  versionA              38           1           0\n",
       "2     377  versionB             165           1           0\n",
       "3     483  versionB               1           0           0\n",
       "4     488  versionB             179           1           1"
      ]
     },
     "execution_count": 14,
     "metadata": {},
     "output_type": "execute_result"
    }
   ],
   "source": [
    "df.head()"
   ]
  },
  {
   "cell_type": "code",
   "execution_count": 15,
   "id": "streaming-rough",
   "metadata": {
    "execution": {
     "iopub.execute_input": "2021-05-24T19:34:15.244609Z",
     "iopub.status.busy": "2021-05-24T19:34:15.244093Z",
     "iopub.status.idle": "2021-05-24T19:34:15.273405Z",
     "shell.execute_reply": "2021-05-24T19:34:15.272830Z",
     "shell.execute_reply.started": "2021-05-24T19:06:43.633067Z"
    },
    "papermill": {
     "duration": 0.053695,
     "end_time": "2021-05-24T19:34:15.273534",
     "exception": false,
     "start_time": "2021-05-24T19:34:15.219839",
     "status": "completed"
    },
    "tags": []
   },
   "outputs": [
    {
     "data": {
      "text/html": [
       "<div>\n",
       "<style scoped>\n",
       "    .dataframe tbody tr th:only-of-type {\n",
       "        vertical-align: middle;\n",
       "    }\n",
       "\n",
       "    .dataframe tbody tr th {\n",
       "        vertical-align: top;\n",
       "    }\n",
       "\n",
       "    .dataframe thead th {\n",
       "        text-align: right;\n",
       "    }\n",
       "</style>\n",
       "<table border=\"1\" class=\"dataframe\">\n",
       "  <thead>\n",
       "    <tr style=\"text-align: right;\">\n",
       "      <th>version</th>\n",
       "      <th>versionA</th>\n",
       "      <th>versionB</th>\n",
       "    </tr>\n",
       "  </thead>\n",
       "  <tbody>\n",
       "    <tr>\n",
       "      <th>count</th>\n",
       "      <td>44700.0000</td>\n",
       "      <td>45489.0000</td>\n",
       "    </tr>\n",
       "    <tr>\n",
       "      <th>median</th>\n",
       "      <td>17.0000</td>\n",
       "      <td>16.0000</td>\n",
       "    </tr>\n",
       "    <tr>\n",
       "      <th>mean</th>\n",
       "      <td>52.4563</td>\n",
       "      <td>51.2988</td>\n",
       "    </tr>\n",
       "    <tr>\n",
       "      <th>std</th>\n",
       "      <td>256.7164</td>\n",
       "      <td>103.2944</td>\n",
       "    </tr>\n",
       "    <tr>\n",
       "      <th>max</th>\n",
       "      <td>49854.0000</td>\n",
       "      <td>2640.0000</td>\n",
       "    </tr>\n",
       "  </tbody>\n",
       "</table>\n",
       "</div>"
      ],
      "text/plain": [
       "version   versionA   versionB\n",
       "count   44700.0000 45489.0000\n",
       "median     17.0000    16.0000\n",
       "mean       52.4563    51.2988\n",
       "std       256.7164   103.2944\n",
       "max     49854.0000  2640.0000"
      ]
     },
     "execution_count": 15,
     "metadata": {},
     "output_type": "execute_result"
    }
   ],
   "source": [
    "df.groupby('version').sum_gamerounds.agg(['count','median','mean','std','max']).T"
   ]
  },
  {
   "cell_type": "code",
   "execution_count": 16,
   "id": "pleased-auckland",
   "metadata": {
    "execution": {
     "iopub.execute_input": "2021-05-24T19:34:15.340177Z",
     "iopub.status.busy": "2021-05-24T19:34:15.339199Z",
     "iopub.status.idle": "2021-05-24T19:34:15.792280Z",
     "shell.execute_reply": "2021-05-24T19:34:15.791644Z",
     "shell.execute_reply.started": "2021-05-24T19:06:43.981195Z"
    },
    "papermill": {
     "duration": 0.496226,
     "end_time": "2021-05-24T19:34:15.792422",
     "exception": false,
     "start_time": "2021-05-24T19:34:15.296196",
     "status": "completed"
    },
    "tags": []
   },
   "outputs": [
    {
     "data": {
      "image/png": "[encoded data removed]",
      "text/plain": [
       "<Figure size 1800x720 with 2 Axes>"
      ]
     },
     "metadata": {},
     "output_type": "display_data"
    }
   ],
   "source": [
    "fig, axes = plt.subplots(2, 1, figsize = (25,10))\n",
    "df.groupby(\"sum_gamerounds\").userid.count().plot(ax = axes[0])\n",
    "df.groupby(\"sum_gamerounds\").userid.count()[:200].plot(ax = axes[1])\n",
    "axes[0].set_title(\"How many users are there all game rounds?\", fontsize = 15)\n",
    "axes[1].set_title(\"How many users are there first 200 game rounds?\", fontsize = 15)\n",
    "plt.tight_layout(pad=5);"
   ]
  },
  {
   "cell_type": "markdown",
   "id": "structured-auditor",
   "metadata": {
    "papermill": {
     "duration": 0.023827,
     "end_time": "2021-05-24T19:34:15.840596",
     "exception": false,
     "start_time": "2021-05-24T19:34:15.816769",
     "status": "completed"
    },
    "tags": []
   },
   "source": [
    "**Retention variables gives us player retention details.**\n",
    "\n",
    "<li><code>retention_1</code> - did the player come back and play 1 day after installing?</li>\n",
    "<li><code>retention_7</code> - did the player come back and play 7 days after installing?</li>"
   ]
  },
  {
   "cell_type": "code",
   "execution_count": 17,
   "id": "mental-dominican",
   "metadata": {
    "execution": {
     "iopub.execute_input": "2021-05-24T19:34:15.915557Z",
     "iopub.status.busy": "2021-05-24T19:34:15.897073Z",
     "iopub.status.idle": "2021-05-24T19:34:15.932996Z",
     "shell.execute_reply": "2021-05-24T19:34:15.933406Z",
     "shell.execute_reply.started": "2021-05-24T19:06:44.713323Z"
    },
    "papermill": {
     "duration": 0.068658,
     "end_time": "2021-05-24T19:34:15.933557",
     "exception": false,
     "start_time": "2021-05-24T19:34:15.864899",
     "status": "completed"
    },
    "tags": []
   },
   "outputs": [
    {
     "data": {
      "text/html": [
       "<div>\n",
       "<style scoped>\n",
       "    .dataframe tbody tr th:only-of-type {\n",
       "        vertical-align: middle;\n",
       "    }\n",
       "\n",
       "    .dataframe tbody tr th {\n",
       "        vertical-align: top;\n",
       "    }\n",
       "\n",
       "    .dataframe thead th {\n",
       "        text-align: right;\n",
       "    }\n",
       "</style>\n",
       "<table border=\"1\" class=\"dataframe\">\n",
       "  <thead>\n",
       "    <tr style=\"text-align: right;\">\n",
       "      <th></th>\n",
       "      <th>RET1_COUNT</th>\n",
       "      <th>RET7_COUNT</th>\n",
       "      <th>RET1_RATIO</th>\n",
       "      <th>RET7_RATIO</th>\n",
       "    </tr>\n",
       "  </thead>\n",
       "  <tbody>\n",
       "    <tr>\n",
       "      <th>0</th>\n",
       "      <td>50036</td>\n",
       "      <td>73408</td>\n",
       "      <td>0.5548</td>\n",
       "      <td>0.8139</td>\n",
       "    </tr>\n",
       "    <tr>\n",
       "      <th>1</th>\n",
       "      <td>40153</td>\n",
       "      <td>16781</td>\n",
       "      <td>0.4452</td>\n",
       "      <td>0.1861</td>\n",
       "    </tr>\n",
       "  </tbody>\n",
       "</table>\n",
       "</div>"
      ],
      "text/plain": [
       "   RET1_COUNT  RET7_COUNT  RET1_RATIO  RET7_RATIO\n",
       "0       50036       73408      0.5548      0.8139\n",
       "1       40153       16781      0.4452      0.1861"
      ]
     },
     "execution_count": 17,
     "metadata": {},
     "output_type": "execute_result"
    }
   ],
   "source": [
    "# Retention Problem\n",
    "pd.DataFrame({\"RET1_COUNT\": df[\"retention_1\"].value_counts(),\n",
    "              \"RET7_COUNT\": df[\"retention_7\"].value_counts(),\n",
    "              \"RET1_RATIO\": df[\"retention_1\"].value_counts() / len(df),\n",
    "              \"RET7_RATIO\": df[\"retention_7\"].value_counts() / len(df)})"
   ]
  },
  {
   "cell_type": "code",
   "execution_count": 18,
   "id": "painful-veteran",
   "metadata": {
    "execution": {
     "iopub.execute_input": "2021-05-24T19:34:15.985503Z",
     "iopub.status.busy": "2021-05-24T19:34:15.984978Z",
     "iopub.status.idle": "2021-05-24T19:34:16.019516Z",
     "shell.execute_reply": "2021-05-24T19:34:16.018968Z",
     "shell.execute_reply.started": "2021-05-24T19:06:45.104964Z"
    },
    "papermill": {
     "duration": 0.061578,
     "end_time": "2021-05-24T19:34:16.019636",
     "exception": false,
     "start_time": "2021-05-24T19:34:15.958058",
     "status": "completed"
    },
    "tags": []
   },
   "outputs": [
    {
     "data": {
      "text/html": [
       "<div>\n",
       "<style scoped>\n",
       "    .dataframe tbody tr th:only-of-type {\n",
       "        vertical-align: middle;\n",
       "    }\n",
       "\n",
       "    .dataframe tbody tr th {\n",
       "        vertical-align: top;\n",
       "    }\n",
       "\n",
       "    .dataframe thead th {\n",
       "        text-align: right;\n",
       "    }\n",
       "</style>\n",
       "<table border=\"1\" class=\"dataframe\">\n",
       "  <thead>\n",
       "    <tr style=\"text-align: right;\">\n",
       "      <th></th>\n",
       "      <th></th>\n",
       "      <th>count</th>\n",
       "      <th>median</th>\n",
       "      <th>mean</th>\n",
       "      <th>std</th>\n",
       "      <th>max</th>\n",
       "    </tr>\n",
       "    <tr>\n",
       "      <th>version</th>\n",
       "      <th>retention_1</th>\n",
       "      <th></th>\n",
       "      <th></th>\n",
       "      <th></th>\n",
       "      <th></th>\n",
       "      <th></th>\n",
       "    </tr>\n",
       "  </thead>\n",
       "  <tbody>\n",
       "    <tr>\n",
       "      <th rowspan=\"2\" valign=\"top\">versionA</th>\n",
       "      <th>0</th>\n",
       "      <td>24666</td>\n",
       "      <td>6</td>\n",
       "      <td>18.3796</td>\n",
       "      <td>319.4232</td>\n",
       "      <td>49854</td>\n",
       "    </tr>\n",
       "    <tr>\n",
       "      <th>1</th>\n",
       "      <td>20034</td>\n",
       "      <td>48</td>\n",
       "      <td>94.4117</td>\n",
       "      <td>135.0377</td>\n",
       "      <td>2961</td>\n",
       "    </tr>\n",
       "    <tr>\n",
       "      <th rowspan=\"2\" valign=\"top\">versionB</th>\n",
       "      <th>0</th>\n",
       "      <td>25370</td>\n",
       "      <td>6</td>\n",
       "      <td>16.3404</td>\n",
       "      <td>35.9258</td>\n",
       "      <td>1241</td>\n",
       "    </tr>\n",
       "    <tr>\n",
       "      <th>1</th>\n",
       "      <td>20119</td>\n",
       "      <td>49</td>\n",
       "      <td>95.3812</td>\n",
       "      <td>137.8873</td>\n",
       "      <td>2640</td>\n",
       "    </tr>\n",
       "  </tbody>\n",
       "</table>\n",
       "</div>"
      ],
      "text/plain": [
       "                      count  median    mean      std    max\n",
       "version  retention_1                                       \n",
       "versionA 0            24666       6 18.3796 319.4232  49854\n",
       "         1            20034      48 94.4117 135.0377   2961\n",
       "versionB 0            25370       6 16.3404  35.9258   1241\n",
       "         1            20119      49 95.3812 137.8873   2640"
      ]
     },
     "execution_count": 18,
     "metadata": {},
     "output_type": "execute_result"
    }
   ],
   "source": [
    "df.groupby([\"version\", \"retention_1\"]).sum_gamerounds.agg([\"count\", \"median\", \"mean\", \"std\", \"max\"])"
   ]
  },
  {
   "cell_type": "code",
   "execution_count": 19,
   "id": "hungry-mayor",
   "metadata": {
    "execution": {
     "iopub.execute_input": "2021-05-24T19:34:16.082911Z",
     "iopub.status.busy": "2021-05-24T19:34:16.081941Z",
     "iopub.status.idle": "2021-05-24T19:34:16.116435Z",
     "shell.execute_reply": "2021-05-24T19:34:16.117266Z",
     "shell.execute_reply.started": "2021-05-24T19:06:45.488615Z"
    },
    "papermill": {
     "duration": 0.073229,
     "end_time": "2021-05-24T19:34:16.117500",
     "exception": false,
     "start_time": "2021-05-24T19:34:16.044271",
     "status": "completed"
    },
    "tags": []
   },
   "outputs": [
    {
     "data": {
      "text/html": [
       "<div>\n",
       "<style scoped>\n",
       "    .dataframe tbody tr th:only-of-type {\n",
       "        vertical-align: middle;\n",
       "    }\n",
       "\n",
       "    .dataframe tbody tr th {\n",
       "        vertical-align: top;\n",
       "    }\n",
       "\n",
       "    .dataframe thead th {\n",
       "        text-align: right;\n",
       "    }\n",
       "</style>\n",
       "<table border=\"1\" class=\"dataframe\">\n",
       "  <thead>\n",
       "    <tr style=\"text-align: right;\">\n",
       "      <th></th>\n",
       "      <th></th>\n",
       "      <th>count</th>\n",
       "      <th>median</th>\n",
       "      <th>mean</th>\n",
       "      <th>std</th>\n",
       "      <th>max</th>\n",
       "    </tr>\n",
       "    <tr>\n",
       "      <th>version</th>\n",
       "      <th>retention_7</th>\n",
       "      <th></th>\n",
       "      <th></th>\n",
       "      <th></th>\n",
       "      <th></th>\n",
       "      <th></th>\n",
       "    </tr>\n",
       "  </thead>\n",
       "  <tbody>\n",
       "    <tr>\n",
       "      <th rowspan=\"2\" valign=\"top\">versionA</th>\n",
       "      <th>0</th>\n",
       "      <td>36198</td>\n",
       "      <td>11</td>\n",
       "      <td>25.7965</td>\n",
       "      <td>43.3162</td>\n",
       "      <td>981</td>\n",
       "    </tr>\n",
       "    <tr>\n",
       "      <th>1</th>\n",
       "      <td>8502</td>\n",
       "      <td>105</td>\n",
       "      <td>165.9625</td>\n",
       "      <td>568.0006</td>\n",
       "      <td>49854</td>\n",
       "    </tr>\n",
       "    <tr>\n",
       "      <th rowspan=\"2\" valign=\"top\">versionB</th>\n",
       "      <th>0</th>\n",
       "      <td>37210</td>\n",
       "      <td>11</td>\n",
       "      <td>25.8564</td>\n",
       "      <td>44.4061</td>\n",
       "      <td>2640</td>\n",
       "    </tr>\n",
       "    <tr>\n",
       "      <th>1</th>\n",
       "      <td>8279</td>\n",
       "      <td>111</td>\n",
       "      <td>165.6498</td>\n",
       "      <td>183.7925</td>\n",
       "      <td>2294</td>\n",
       "    </tr>\n",
       "  </tbody>\n",
       "</table>\n",
       "</div>"
      ],
      "text/plain": [
       "                      count  median     mean      std    max\n",
       "version  retention_7                                        \n",
       "versionA 0            36198      11  25.7965  43.3162    981\n",
       "         1             8502     105 165.9625 568.0006  49854\n",
       "versionB 0            37210      11  25.8564  44.4061   2640\n",
       "         1             8279     111 165.6498 183.7925   2294"
      ]
     },
     "execution_count": 19,
     "metadata": {},
     "output_type": "execute_result"
    }
   ],
   "source": [
    "df.groupby([\"version\", \"retention_7\"]).sum_gamerounds.agg([\"count\", \"median\", \"mean\", \"std\", \"max\"])"
   ]
  },
  {
   "cell_type": "code",
   "execution_count": 20,
   "id": "fatty-tooth",
   "metadata": {
    "execution": {
     "iopub.execute_input": "2021-05-24T19:34:16.210291Z",
     "iopub.status.busy": "2021-05-24T19:34:16.205180Z",
     "iopub.status.idle": "2021-05-24T19:34:16.273815Z",
     "shell.execute_reply": "2021-05-24T19:34:16.273282Z",
     "shell.execute_reply.started": "2021-05-24T19:06:45.954144Z"
    },
    "papermill": {
     "duration": 0.121385,
     "end_time": "2021-05-24T19:34:16.273948",
     "exception": false,
     "start_time": "2021-05-24T19:34:16.152563",
     "status": "completed"
    },
    "tags": []
   },
   "outputs": [
    {
     "data": {
      "text/html": [
       "<div>\n",
       "<style scoped>\n",
       "    .dataframe tbody tr th:only-of-type {\n",
       "        vertical-align: middle;\n",
       "    }\n",
       "\n",
       "    .dataframe tbody tr th {\n",
       "        vertical-align: top;\n",
       "    }\n",
       "\n",
       "    .dataframe thead th {\n",
       "        text-align: right;\n",
       "    }\n",
       "</style>\n",
       "<table border=\"1\" class=\"dataframe\">\n",
       "  <thead>\n",
       "    <tr style=\"text-align: right;\">\n",
       "      <th></th>\n",
       "      <th>version</th>\n",
       "      <th>NewRetention</th>\n",
       "      <th>count</th>\n",
       "      <th>median</th>\n",
       "      <th>mean</th>\n",
       "      <th>std</th>\n",
       "      <th>max</th>\n",
       "    </tr>\n",
       "  </thead>\n",
       "  <tbody>\n",
       "    <tr>\n",
       "      <th>0</th>\n",
       "      <td>versionA</td>\n",
       "      <td>0-0</td>\n",
       "      <td>22840</td>\n",
       "      <td>6</td>\n",
       "      <td>11.8197</td>\n",
       "      <td>21.6426</td>\n",
       "      <td>981</td>\n",
       "    </tr>\n",
       "    <tr>\n",
       "      <th>1</th>\n",
       "      <td>versionA</td>\n",
       "      <td>0-1</td>\n",
       "      <td>1826</td>\n",
       "      <td>43</td>\n",
       "      <td>100.4315</td>\n",
       "      <td>1168.6839</td>\n",
       "      <td>49854</td>\n",
       "    </tr>\n",
       "    <tr>\n",
       "      <th>2</th>\n",
       "      <td>versionA</td>\n",
       "      <td>1-0</td>\n",
       "      <td>13358</td>\n",
       "      <td>33</td>\n",
       "      <td>49.6945</td>\n",
       "      <td>58.1254</td>\n",
       "      <td>918</td>\n",
       "    </tr>\n",
       "    <tr>\n",
       "      <th>3</th>\n",
       "      <td>versionA</td>\n",
       "      <td>1-1</td>\n",
       "      <td>6676</td>\n",
       "      <td>127</td>\n",
       "      <td>183.8863</td>\n",
       "      <td>189.6264</td>\n",
       "      <td>2961</td>\n",
       "    </tr>\n",
       "    <tr>\n",
       "      <th>4</th>\n",
       "      <td>versionB</td>\n",
       "      <td>0-0</td>\n",
       "      <td>23597</td>\n",
       "      <td>6</td>\n",
       "      <td>11.9133</td>\n",
       "      <td>20.9010</td>\n",
       "      <td>547</td>\n",
       "    </tr>\n",
       "    <tr>\n",
       "      <th>5</th>\n",
       "      <td>versionB</td>\n",
       "      <td>0-1</td>\n",
       "      <td>1773</td>\n",
       "      <td>47</td>\n",
       "      <td>75.2611</td>\n",
       "      <td>94.4780</td>\n",
       "      <td>1241</td>\n",
       "    </tr>\n",
       "    <tr>\n",
       "      <th>6</th>\n",
       "      <td>versionB</td>\n",
       "      <td>1-0</td>\n",
       "      <td>13613</td>\n",
       "      <td>32</td>\n",
       "      <td>50.0255</td>\n",
       "      <td>60.9246</td>\n",
       "      <td>2640</td>\n",
       "    </tr>\n",
       "    <tr>\n",
       "      <th>7</th>\n",
       "      <td>versionB</td>\n",
       "      <td>1-1</td>\n",
       "      <td>6506</td>\n",
       "      <td>133</td>\n",
       "      <td>190.2824</td>\n",
       "      <td>194.2201</td>\n",
       "      <td>2294</td>\n",
       "    </tr>\n",
       "  </tbody>\n",
       "</table>\n",
       "</div>"
      ],
      "text/plain": [
       "    version NewRetention  count  median     mean       std    max\n",
       "0  versionA          0-0  22840       6  11.8197   21.6426    981\n",
       "1  versionA          0-1   1826      43 100.4315 1168.6839  49854\n",
       "2  versionA          1-0  13358      33  49.6945   58.1254    918\n",
       "3  versionA          1-1   6676     127 183.8863  189.6264   2961\n",
       "4  versionB          0-0  23597       6  11.9133   20.9010    547\n",
       "5  versionB          0-1   1773      47  75.2611   94.4780   1241\n",
       "6  versionB          1-0  13613      32  50.0255   60.9246   2640\n",
       "7  versionB          1-1   6506     133 190.2824  194.2201   2294"
      ]
     },
     "execution_count": 20,
     "metadata": {},
     "output_type": "execute_result"
    }
   ],
   "source": [
    "df[\"NewRetention\"] = list(map(lambda x,y: str(x)+\"-\"+str(y), df.retention_1, df.retention_7))\n",
    "df.groupby([\"version\", \"NewRetention\"]).sum_gamerounds.agg([\"count\", \"median\", \"mean\", \"std\", \"max\"]).reset_index()"
   ]
  },
  {
   "cell_type": "markdown",
   "id": "effective-ensemble",
   "metadata": {
    "papermill": {
     "duration": 0.024962,
     "end_time": "2021-05-24T19:34:16.325129",
     "exception": false,
     "start_time": "2021-05-24T19:34:16.300167",
     "status": "completed"
    },
    "tags": []
   },
   "source": [
    "## Outliers"
   ]
  },
  {
   "cell_type": "code",
   "execution_count": 21,
   "id": "sunrise-peeing",
   "metadata": {
    "execution": {
     "iopub.execute_input": "2021-05-24T19:34:16.380897Z",
     "iopub.status.busy": "2021-05-24T19:34:16.380302Z",
     "iopub.status.idle": "2021-05-24T19:34:16.415334Z",
     "shell.execute_reply": "2021-05-24T19:34:16.415709Z",
     "shell.execute_reply.started": "2021-05-24T19:09:26.254338Z"
    },
    "papermill": {
     "duration": 0.065508,
     "end_time": "2021-05-24T19:34:16.415890",
     "exception": false,
     "start_time": "2021-05-24T19:34:16.350382",
     "status": "completed"
    },
    "tags": []
   },
   "outputs": [
    {
     "data": {
      "text/html": [
       "<div>\n",
       "<style scoped>\n",
       "    .dataframe tbody tr th:only-of-type {\n",
       "        vertical-align: middle;\n",
       "    }\n",
       "\n",
       "    .dataframe tbody tr th {\n",
       "        vertical-align: top;\n",
       "    }\n",
       "\n",
       "    .dataframe thead th {\n",
       "        text-align: right;\n",
       "    }\n",
       "</style>\n",
       "<table border=\"1\" class=\"dataframe\">\n",
       "  <thead>\n",
       "    <tr style=\"text-align: right;\">\n",
       "      <th></th>\n",
       "      <th>count</th>\n",
       "      <th>mean</th>\n",
       "      <th>std</th>\n",
       "      <th>min</th>\n",
       "      <th>1%</th>\n",
       "      <th>5%</th>\n",
       "      <th>10%</th>\n",
       "      <th>20%</th>\n",
       "      <th>50%</th>\n",
       "      <th>80%</th>\n",
       "      <th>90%</th>\n",
       "      <th>95%</th>\n",
       "      <th>99%</th>\n",
       "      <th>max</th>\n",
       "    </tr>\n",
       "  </thead>\n",
       "  <tbody>\n",
       "    <tr>\n",
       "      <th>sum_gamerounds</th>\n",
       "      <td>90188.0000</td>\n",
       "      <td>51.3203</td>\n",
       "      <td>102.6827</td>\n",
       "      <td>0.0000</td>\n",
       "      <td>0.0000</td>\n",
       "      <td>1.0000</td>\n",
       "      <td>1.0000</td>\n",
       "      <td>3.0000</td>\n",
       "      <td>16.0000</td>\n",
       "      <td>67.0000</td>\n",
       "      <td>134.0000</td>\n",
       "      <td>221.0000</td>\n",
       "      <td>493.0000</td>\n",
       "      <td>2961.0000</td>\n",
       "    </tr>\n",
       "  </tbody>\n",
       "</table>\n",
       "</div>"
      ],
      "text/plain": [
       "                    count    mean      std    min     1%     5%    10%    20%  \\\n",
       "sum_gamerounds 90188.0000 51.3203 102.6827 0.0000 0.0000 1.0000 1.0000 3.0000   \n",
       "\n",
       "                   50%     80%      90%      95%      99%       max  \n",
       "sum_gamerounds 16.0000 67.0000 134.0000 221.0000 493.0000 2961.0000  "
      ]
     },
     "execution_count": 21,
     "metadata": {},
     "output_type": "execute_result"
    }
   ],
   "source": [
    "df = df[df.sum_gamerounds < df.sum_gamerounds.max()]\n",
    "\n",
    "# Summary Stats: sum_gamerounds\n",
    "df.describe([0.01, 0.05, 0.10, 0.20, 0.80, 0.90, 0.95, 0.99])[[\"sum_gamerounds\"]].T"
   ]
  },
  {
   "cell_type": "code",
   "execution_count": 22,
   "id": "optimum-affect",
   "metadata": {
    "execution": {
     "iopub.execute_input": "2021-05-24T19:34:16.585566Z",
     "iopub.status.busy": "2021-05-24T19:34:16.579607Z",
     "iopub.status.idle": "2021-05-24T19:34:17.282475Z",
     "shell.execute_reply": "2021-05-24T19:34:17.282027Z",
     "shell.execute_reply.started": "2021-05-24T19:10:19.170023Z"
    },
    "papermill": {
     "duration": 0.841284,
     "end_time": "2021-05-24T19:34:17.282594",
     "exception": false,
     "start_time": "2021-05-24T19:34:16.441310",
     "status": "completed"
    },
    "tags": []
   },
   "outputs": [
    {
     "data": {
      "image/png": "[encoded data removed]",
      "text/plain": [
       "<Figure size 1296x360 with 4 Axes>"
      ]
     },
     "metadata": {},
     "output_type": "display_data"
    }
   ],
   "source": [
    "fig, axes = plt.subplots(1, 4, figsize = (18,5))\n",
    "df.sum_gamerounds.hist(ax = axes[0], color = \"steelblue\")\n",
    "df[(df.version == \"versionA\")].hist(\"sum_gamerounds\", ax = axes[1], color = \"steelblue\")\n",
    "df[(df.version == \"versionB\")].hist(\"sum_gamerounds\", ax = axes[2], color = \"steelblue\")\n",
    "sns.boxplot(x = df.version, y = df.sum_gamerounds, ax = axes[3])\n",
    "axes[0].set_title(\"Distribution of Total Game Rounds\", fontsize = 15)\n",
    "axes[1].set_title(\"Distribution of Gate 30 (versionA)\", fontsize = 15)\n",
    "axes[2].set_title(\"Distribution of Gate 40 (versionB)\", fontsize = 15)\n",
    "axes[3].set_title(\"Distribution of Two Groups\", fontsize = 15)\n",
    "\n",
    "plt.tight_layout(pad = 4);"
   ]
  },
  {
   "cell_type": "code",
   "execution_count": 23,
   "id": "alert-welding",
   "metadata": {
    "execution": {
     "iopub.execute_input": "2021-05-24T19:34:17.346417Z",
     "iopub.status.busy": "2021-05-24T19:34:17.345856Z",
     "iopub.status.idle": "2021-05-24T19:34:17.714058Z",
     "shell.execute_reply": "2021-05-24T19:34:17.714479Z",
     "shell.execute_reply.started": "2021-05-24T19:11:06.524022Z"
    },
    "papermill": {
     "duration": 0.405283,
     "end_time": "2021-05-24T19:34:17.714660",
     "exception": false,
     "start_time": "2021-05-24T19:34:17.309377",
     "status": "completed"
    },
    "tags": []
   },
   "outputs": [
    {
     "data": {
      "image/png": "[encoded data removed]",
      "text/plain": [
       "<Figure size 1440x360 with 1 Axes>"
      ]
     },
     "metadata": {},
     "output_type": "display_data"
    }
   ],
   "source": [
    "df[(df.version == \"versionA\")].reset_index().set_index(\"index\").sum_gamerounds.plot(legend = True, label = \"Version A\", figsize = (20,5))\n",
    "df[df.version == \"versionB\"].reset_index().set_index(\"index\").sum_gamerounds.plot(legend = True, label = \"Version B\", alpha = 0.8)\n",
    "plt.suptitle(\"After Removing The Extreme Value\", fontsize = 20);"
   ]
  },
  {
   "cell_type": "markdown",
   "id": "informational-rainbow",
   "metadata": {
    "papermill": {
     "duration": 0.030481,
     "end_time": "2021-05-24T19:34:17.774620",
     "exception": false,
     "start_time": "2021-05-24T19:34:17.744139",
     "status": "completed"
    },
    "tags": []
   },
   "source": [
    "### Assumptions:\n",
    "- Check normality\n",
    "- If Normal Distribution, check homogeneity\n",
    "\n",
    "### Steps:\n",
    "- Split & Define Control Group & Test Group\n",
    "- Apply Shapiro Test for normality\n",
    "- If parametric apply Levene Test for homogeneity of variances\n",
    "- If Parametric + homogeneity of variances apply T-Test\n",
    "- If Parametric - homogeneity of variances apply Welch Test\n",
    "- If Non-parametric apply Mann Whitney U Test directly"
   ]
  },
  {
   "cell_type": "code",
   "execution_count": 24,
   "id": "roman-director",
   "metadata": {
    "execution": {
     "iopub.execute_input": "2021-05-24T19:34:17.840766Z",
     "iopub.status.busy": "2021-05-24T19:34:17.840212Z",
     "iopub.status.idle": "2021-05-24T19:34:17.856663Z",
     "shell.execute_reply": "2021-05-24T19:34:17.856188Z",
     "shell.execute_reply.started": "2021-05-24T19:25:02.672627Z"
    },
    "papermill": {
     "duration": 0.054081,
     "end_time": "2021-05-24T19:34:17.856808",
     "exception": false,
     "start_time": "2021-05-24T19:34:17.802727",
     "status": "completed"
    },
    "tags": []
   },
   "outputs": [],
   "source": [
    "# Split A/B\n",
    "groupA = df[df['version'] == \"versionA\"]['sum_gamerounds']\n",
    "groupB = df[df['version'] == \"versionB\"]['sum_gamerounds']"
   ]
  },
  {
   "cell_type": "code",
   "execution_count": 25,
   "id": "clear-milwaukee",
   "metadata": {
    "execution": {
     "iopub.execute_input": "2021-05-24T19:34:17.916170Z",
     "iopub.status.busy": "2021-05-24T19:34:17.915559Z",
     "iopub.status.idle": "2021-05-24T19:34:17.956449Z",
     "shell.execute_reply": "2021-05-24T19:34:17.957036Z",
     "shell.execute_reply.started": "2021-05-24T19:28:07.01994Z"
    },
    "papermill": {
     "duration": 0.072099,
     "end_time": "2021-05-24T19:34:17.957253",
     "exception": false,
     "start_time": "2021-05-24T19:34:17.885154",
     "status": "completed"
    },
    "tags": []
   },
   "outputs": [
    {
     "name": "stdout",
     "output_type": "stream",
     "text": [
      "# A/B Testing Hypothesis\n",
      "H0: A == B\n",
      "H1: A != B \n",
      "\n"
     ]
    },
    {
     "data": {
      "text/html": [
       "<div>\n",
       "<style scoped>\n",
       "    .dataframe tbody tr th:only-of-type {\n",
       "        vertical-align: middle;\n",
       "    }\n",
       "\n",
       "    .dataframe tbody tr th {\n",
       "        vertical-align: top;\n",
       "    }\n",
       "\n",
       "    .dataframe thead th {\n",
       "        text-align: right;\n",
       "    }\n",
       "</style>\n",
       "<table border=\"1\" class=\"dataframe\">\n",
       "  <thead>\n",
       "    <tr style=\"text-align: right;\">\n",
       "      <th></th>\n",
       "      <th>Test Type</th>\n",
       "      <th>AB Hypothesis</th>\n",
       "      <th>p-value</th>\n",
       "      <th>Comment</th>\n",
       "    </tr>\n",
       "  </thead>\n",
       "  <tbody>\n",
       "    <tr>\n",
       "      <th>0</th>\n",
       "      <td>Non-Parametric</td>\n",
       "      <td>Reject H0</td>\n",
       "      <td>0.0254</td>\n",
       "      <td>A/B groups are not similar!</td>\n",
       "    </tr>\n",
       "  </tbody>\n",
       "</table>\n",
       "</div>"
      ],
      "text/plain": [
       "        Test Type AB Hypothesis  p-value                      Comment\n",
       "0  Non-Parametric     Reject H0   0.0254  A/B groups are not similar!"
      ]
     },
     "execution_count": 25,
     "metadata": {},
     "output_type": "execute_result"
    }
   ],
   "source": [
    "# A/B Testing Function - Quick Solution\n",
    "def AB_Test(dataframe, group, target):\n",
    "   \n",
    "    # Assumption: Normality\n",
    "    ntA = shapiro(groupA)[1] < 0.05\n",
    "    ntB = shapiro(groupB)[1] < 0.05\n",
    "    # H0: Distribution is Normal! - False\n",
    "    # H1: Distribution is not Normal! - True\n",
    "    \n",
    "    if (ntA == False) & (ntB == False): # \"H0: Normal Distribution\"\n",
    "        # Parametric Test\n",
    "        # Assumption: Homogeneity of variances\n",
    "        leveneTest = stats.levene(groupA, groupB)[1] < 0.05\n",
    "        # H0: Homogeneity: False\n",
    "        # H1: Heterogeneous: True\n",
    "        \n",
    "        if leveneTest == False:\n",
    "            # Homogeneity\n",
    "            ttest = stats.ttest_ind(groupA, groupB, equal_var=True)[1]\n",
    "            # H0: M1 == M2 - False\n",
    "            # H1: M1 != M2 - True\n",
    "        else:\n",
    "            # Heterogeneous\n",
    "            ttest = stats.ttest_ind(groupA, groupB, equal_var=False)[1]\n",
    "            # H0: M1 == M2 - False\n",
    "            # H1: M1 != M2 - True\n",
    "    else:\n",
    "        # Non-Parametric Test\n",
    "        ttest = stats.mannwhitneyu(groupA, groupB)[1] \n",
    "        # H0: M1 == M2 - False\n",
    "        # H1: M1 != M2 - True\n",
    "        \n",
    "    # Result\n",
    "    temp = pd.DataFrame({\n",
    "        \"AB Hypothesis\":[ttest < 0.05], \n",
    "        \"p-value\":[ttest]\n",
    "    })\n",
    "    temp[\"Test Type\"] = np.where((ntA == False) & (ntB == False), \"Parametric\", \"Non-Parametric\")\n",
    "    temp[\"AB Hypothesis\"] = np.where(temp[\"AB Hypothesis\"] == False, \"Fail to Reject H0\", \"Reject H0\")\n",
    "    temp[\"Comment\"] = np.where(temp[\"AB Hypothesis\"] == \"Fail to Reject H0\", \"A/B groups are similar!\", \"A/B groups are not similar!\")\n",
    "    \n",
    "    # Columns\n",
    "    if (ntA == False) & (ntB == False):\n",
    "        temp[\"Homogeneity\"] = np.where(leveneTest == False, \"Yes\", \"No\")\n",
    "        temp = temp[[\"Test Type\", \"Homogeneity\",\"AB Hypothesis\", \"p-value\", \"Comment\"]]\n",
    "    else:\n",
    "        temp = temp[[\"Test Type\",\"AB Hypothesis\", \"p-value\", \"Comment\"]]\n",
    "    \n",
    "    # Print Hypothesis\n",
    "    print(\"# A/B Testing Hypothesis\")\n",
    "    print(\"H0: A == B\")\n",
    "    print(\"H1: A != B\", \"\\n\")\n",
    "    \n",
    "    return temp\n",
    "# Apply A/B Testing\n",
    "\n",
    "AB_Test(dataframe=df, group = \"version\", target = \"sum_gamerounds\")"
   ]
  }
 ],
 "metadata": {
  "kernelspec": {
   "display_name": "Python 3",
   "language": "python",
   "name": "python3"
  },
  "language_info": {
   "codemirror_mode": {
    "name": "ipython",
    "version": 3
   },
   "file_extension": ".py",
   "mimetype": "text/x-python",
   "name": "python",
   "nbconvert_exporter": "python",
   "pygments_lexer": "ipython3",
   "version": "3.7.10"
  },
  "papermill": {
   "default_parameters": {},
   "duration": 13.831837,
   "end_time": "2021-05-24T19:34:19.692459",
   "environment_variables": {},
   "exception": null,
   "input_path": "__notebook__.ipynb",
   "output_path": "__notebook__.ipynb",
   "parameters": {},
   "start_time": "2021-05-24T19:34:05.860622",
   "version": "2.3.3"
  }
 },
 "nbformat": 4,
 "nbformat_minor": 5
}
