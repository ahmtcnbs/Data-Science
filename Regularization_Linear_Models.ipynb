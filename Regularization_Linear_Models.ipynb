{
  "nbformat": 4,
  "nbformat_minor": 0,
  "metadata": {
    "colab": {
      "name": "Regularization-Linear-Models.ipynb",
      "provenance": [],
      "collapsed_sections": [],
      "authorship_tag": "ABX9TyPrlb9q0OUrWmjRaxfXhpGl",
      "include_colab_link": true
    },
    "kernelspec": {
      "name": "python3",
      "display_name": "Python 3"
    },
    "language_info": {
      "name": "python"
    }
  },
  "cells": [
    {
      "cell_type": "markdown",
      "metadata": {
        "id": "view-in-github",
        "colab_type": "text"
      },
      "source": [
        "<a href=\"https://colab.research.google.com/github/ahmtcnbs/Machine-Learning-Projects/blob/main/Regularization_Linear_Models.ipynb\" target=\"_parent\"><img src=\"https://colab.research.google.com/assets/colab-badge.svg\" alt=\"Open In Colab\"/></a>"
      ]
    },
    {
      "cell_type": "markdown",
      "metadata": {
        "id": "ZhXsQvM3_Zkh"
      },
      "source": [
        "# **Regularization Linear Models**\n",
        "\n",
        "1.   Ridge Regression\n",
        "2.   Lasso Regression\n",
        "3.   ElasticNet\n"
      ]
    },
    {
      "cell_type": "markdown",
      "metadata": {
        "id": "mIxxeNCh_prO"
      },
      "source": [
        "### 1. Ridge Regression"
      ]
    },
    {
      "cell_type": "code",
      "metadata": {
        "id": "k1Ah3vDq_0ki"
      },
      "source": [
        "import pandas as pd\n",
        "import numpy as np\n",
        "import matplotlib.pyplot as plt\n",
        "from sklearn.model_selection import train_test_split"
      ],
      "execution_count": 11,
      "outputs": []
    },
    {
      "cell_type": "code",
      "metadata": {
        "id": "9037oUmB_d52"
      },
      "source": [
        "hit = pd.read_csv(\"Hitters.csv\")\n",
        "df = hit.copy()\n",
        "df = df.dropna()\n",
        "ms = pd.get_dummies(df[['League', 'Division', 'NewLeague']])\n",
        "y = df[\"Salary\"]\n",
        "X_ = df.drop(['Salary', 'League', 'Division', 'NewLeague'], axis=1).astype('float64')\n",
        "X = pd.concat([X_, dms[['League_N', 'Division_W', 'NewLeague_N']]], axis=1)\n",
        "X_train, X_test, y_train, y_test = train_test_split(X, y, \n",
        "                                                    test_size=0.25, \n",
        "                                                    random_state=42)"
      ],
      "execution_count": 14,
      "outputs": []
    },
    {
      "cell_type": "code",
      "metadata": {
        "id": "eNQLtFou_zQ2",
        "colab": {
          "base_uri": "https://localhost:8080/"
        },
        "outputId": "b65915ff-63f6-4329-c1f4-65856905f5c2"
      },
      "source": [
        "from sklearn.linear_model import Ridge\n",
        "ridge_model = Ridge(alpha=0.1)\n",
        "ridge_model.fit(X_train,y_train)\n",
        "ridge_model"
      ],
      "execution_count": 19,
      "outputs": [
        {
          "output_type": "execute_result",
          "data": {
            "text/plain": [
              "Ridge(alpha=0.1, copy_X=True, fit_intercept=True, max_iter=None,\n",
              "      normalize=False, random_state=None, solver='auto', tol=0.001)"
            ]
          },
          "metadata": {
            "tags": []
          },
          "execution_count": 19
        }
      ]
    },
    {
      "cell_type": "code",
      "metadata": {
        "colab": {
          "base_uri": "https://localhost:8080/"
        },
        "id": "KpBIfgpzBqwe",
        "outputId": "b25c84fc-85f8-4268-c996-c1733d36210c"
      },
      "source": [
        "ridge_model.coef_"
      ],
      "execution_count": 20,
      "outputs": [
        {
          "output_type": "execute_result",
          "data": {
            "text/plain": [
              "array([ -1.77435737,   8.80240528,   7.29595605,  -3.33257639,\n",
              "        -2.08316481,   5.42531283,   7.58514945,  -0.13752764,\n",
              "        -0.20779701,  -0.60361067,   1.7927957 ,   0.72866408,\n",
              "        -0.68710375,   0.26153564,   0.26888652,  -0.52674278,\n",
              "       112.14640272, -99.80997876, -48.07152768])"
            ]
          },
          "metadata": {
            "tags": []
          },
          "execution_count": 20
        }
      ]
    },
    {
      "cell_type": "code",
      "metadata": {
        "colab": {
          "base_uri": "https://localhost:8080/",
          "height": 300
        },
        "id": "ZNFgCNHmBw_F",
        "outputId": "7f0ed12d-fa60-4ffb-d9ce-6581fc3ee9e6"
      },
      "source": [
        "# farklı alpha(lambda)'lara göre modeli ölçme\n",
        "\n",
        "lambdalar = 10**np.linspace(10,-2,100)*0.5\n",
        "\n",
        "ridge_model = Ridge()\n",
        "katsayilar = []\n",
        "\n",
        "for i in lambdalar:\n",
        "  ridge_model.set_params(alpha=i)\n",
        "  ridge_model.fit(X_train,y_train)\n",
        "  katsayilar.append(ridge_model.coef_)\n",
        "\n",
        "ax = plt.gca()\n",
        "ax.plot(lambdalar,katsayilar),\n",
        "ax.set_xscale('log')\n",
        "\n",
        "plt.xlabel('Lambda(Alpha) Değerleri')\n",
        "plt.ylabel('Katsayılar/Ağırlıklar')\n",
        "plt.title('Düzenlileştirmenin bir fonksiyonu olarak ridge katsayıları');"
      ],
      "execution_count": 23,
      "outputs": [
        {
          "output_type": "display_data",
          "data": {
            "image/png": "[encoded data removed]",
            "text/plain": [
              "<Figure size 432x288 with 1 Axes>"
            ]
          },
          "metadata": {
            "tags": [],
            "needs_background": "light"
          }
        }
      ]
    },
    {
      "cell_type": "markdown",
      "metadata": {
        "id": "n5OykBipDEHK"
      },
      "source": [
        "**1.1 Ridge: Tahmin (Prediction)**"
      ]
    },
    {
      "cell_type": "code",
      "metadata": {
        "colab": {
          "base_uri": "https://localhost:8080/"
        },
        "id": "04oj7jKwDDYE",
        "outputId": "ffc9f4e5-d842-49a2-bd11-7ab94670ff79"
      },
      "source": [
        "from sklearn.metrics import mean_squared_error\n",
        "y_pred = ridge_model.predict(X_test)\n",
        "np.sqrt(mean_squared_error(y_test,y_pred))"
      ],
      "execution_count": 25,
      "outputs": [
        {
          "output_type": "execute_result",
          "data": {
            "text/plain": [
              "357.05179222828434"
            ]
          },
          "metadata": {
            "tags": []
          },
          "execution_count": 25
        }
      ]
    },
    {
      "cell_type": "markdown",
      "metadata": {
        "id": "rjbJhqdiDcjg"
      },
      "source": [
        "**1.2 Ridge: Model Tuning**"
      ]
    },
    {
      "cell_type": "code",
      "metadata": {
        "colab": {
          "base_uri": "https://localhost:8080/"
        },
        "id": "FFH3WR-JCcdU",
        "outputId": "53dc0fc5-8258-4177-f319-3d058fcac620"
      },
      "source": [
        "lambdalar = 10**np.linspace(10,-2,100)*0.5\n",
        "lambdalar[0:5]"
      ],
      "execution_count": 27,
      "outputs": [
        {
          "output_type": "execute_result",
          "data": {
            "text/plain": [
              "array([5.00000000e+09, 3.78231664e+09, 2.86118383e+09, 2.16438064e+09,\n",
              "       1.63727458e+09])"
            ]
          },
          "metadata": {
            "tags": []
          },
          "execution_count": 27
        }
      ]
    },
    {
      "cell_type": "code",
      "metadata": {
        "id": "Y-vR0ASqDm4E"
      },
      "source": [
        "from sklearn.linear_model import RidgeCV\n",
        "ridge_cv = RidgeCV(alphas = lambdalar, \n",
        "                   scoring = 'neg_mean_squared_error',\n",
        "                   normalize = True)"
      ],
      "execution_count": 30,
      "outputs": []
    },
    {
      "cell_type": "code",
      "metadata": {
        "colab": {
          "base_uri": "https://localhost:8080/"
        },
        "id": "Jjk0ovtkD-Yl",
        "outputId": "92cbdf2e-ff88-48f3-ca9e-9722cbb8d193"
      },
      "source": [
        "ridge_cv.fit(X_train,y_train)"
      ],
      "execution_count": 31,
      "outputs": [
        {
          "output_type": "execute_result",
          "data": {
            "text/plain": [
              "RidgeCV(alphas=array([5.00000000e+09, 3.78231664e+09, 2.86118383e+09, 2.16438064e+09,\n",
              "       1.63727458e+09, 1.23853818e+09, 9.36908711e+08, 7.08737081e+08,\n",
              "       5.36133611e+08, 4.05565415e+08, 3.06795364e+08, 2.32079442e+08,\n",
              "       1.75559587e+08, 1.32804389e+08, 1.00461650e+08, 7.59955541e+07,\n",
              "       5.74878498e+07, 4.34874501e+07, 3.28966612e+07, 2.48851178e+07,\n",
              "       1.88246790e+07, 1.42401793e+0...\n",
              "       3.28966612e-01, 2.48851178e-01, 1.88246790e-01, 1.42401793e-01,\n",
              "       1.07721735e-01, 8.14875417e-02, 6.16423370e-02, 4.66301673e-02,\n",
              "       3.52740116e-02, 2.66834962e-02, 2.01850863e-02, 1.52692775e-02,\n",
              "       1.15506485e-02, 8.73764200e-03, 6.60970574e-03, 5.00000000e-03]),\n",
              "        cv=None, fit_intercept=True, gcv_mode=None, normalize=True,\n",
              "        scoring='neg_mean_squared_error', store_cv_values=False)"
            ]
          },
          "metadata": {
            "tags": []
          },
          "execution_count": 31
        }
      ]
    },
    {
      "cell_type": "code",
      "metadata": {
        "colab": {
          "base_uri": "https://localhost:8080/"
        },
        "id": "rwTy4sIwED98",
        "outputId": "8554bf4e-5170-4a24-cb45-bd7ae68f49fe"
      },
      "source": [
        "ridge_cv.alpha_"
      ],
      "execution_count": 32,
      "outputs": [
        {
          "output_type": "execute_result",
          "data": {
            "text/plain": [
              "0.7599555414764666"
            ]
          },
          "metadata": {
            "tags": []
          },
          "execution_count": 32
        }
      ]
    },
    {
      "cell_type": "code",
      "metadata": {
        "colab": {
          "base_uri": "https://localhost:8080/"
        },
        "id": "_vnS3AeNEKQU",
        "outputId": "fffbe66b-08ef-4a5f-b567-71a5e66c6911"
      },
      "source": [
        "ridge_tuned = Ridge(alpha=ridge_cv.alpha_,\n",
        "                    normalize=True,).fit(X_train,y_train)\n",
        "ridge_tuned"
      ],
      "execution_count": 34,
      "outputs": [
        {
          "output_type": "execute_result",
          "data": {
            "text/plain": [
              "Ridge(alpha=0.7599555414764666, copy_X=True, fit_intercept=True, max_iter=None,\n",
              "      normalize=True, random_state=None, solver='auto', tol=0.001)"
            ]
          },
          "metadata": {
            "tags": []
          },
          "execution_count": 34
        }
      ]
    },
    {
      "cell_type": "code",
      "metadata": {
        "colab": {
          "base_uri": "https://localhost:8080/"
        },
        "id": "8JBAmYrKEcdD",
        "outputId": "e9f8f9d9-4150-45ce-d8a0-fa21159c41f0"
      },
      "source": [
        "np.sqrt(mean_squared_error(y_test,ridge_tuned.predict(X_test)))"
      ],
      "execution_count": 35,
      "outputs": [
        {
          "output_type": "execute_result",
          "data": {
            "text/plain": [
              "386.6826429756415"
            ]
          },
          "metadata": {
            "tags": []
          },
          "execution_count": 35
        }
      ]
    },
    {
      "cell_type": "markdown",
      "metadata": {
        "id": "GRvRr7QuEvbL"
      },
      "source": [
        "### 2. Lasso Regression"
      ]
    },
    {
      "cell_type": "code",
      "metadata": {
        "id": "FCyzZ3v5EmCL"
      },
      "source": [
        "hit = pd.read_csv(\"Hitters.csv\")\n",
        "df = hit.copy()\n",
        "df = df.dropna()\n",
        "ms = pd.get_dummies(df[['League', 'Division', 'NewLeague']])\n",
        "y = df[\"Salary\"]\n",
        "X_ = df.drop(['Salary', 'League', 'Division', 'NewLeague'], axis=1).astype('float64')\n",
        "X = pd.concat([X_, dms[['League_N', 'Division_W', 'NewLeague_N']]], axis=1)\n",
        "X_train, X_test, y_train, y_test = train_test_split(X, y, \n",
        "                                                    test_size=0.25, \n",
        "                                                    random_state=42)"
      ],
      "execution_count": 36,
      "outputs": []
    },
    {
      "cell_type": "code",
      "metadata": {
        "colab": {
          "base_uri": "https://localhost:8080/"
        },
        "id": "4-F7nFbuE0d7",
        "outputId": "e6fd4afa-af46-454d-83eb-d536379e132e"
      },
      "source": [
        "from sklearn.linear_model import Lasso\n",
        "lasso_model = Lasso(alpha=0.1)\n",
        "lasso_model.fit(X_train,y_train)"
      ],
      "execution_count": 38,
      "outputs": [
        {
          "output_type": "stream",
          "text": [
            "/usr/local/lib/python3.7/dist-packages/sklearn/linear_model/_coordinate_descent.py:476: ConvergenceWarning: Objective did not converge. You might want to increase the number of iterations. Duality gap: 8249174.751388069, tolerance: 3898.6869563806586\n",
            "  positive)\n"
          ],
          "name": "stderr"
        },
        {
          "output_type": "execute_result",
          "data": {
            "text/plain": [
              "Lasso(alpha=0.1, copy_X=True, fit_intercept=True, max_iter=1000,\n",
              "      normalize=False, positive=False, precompute=False, random_state=None,\n",
              "      selection='cyclic', tol=0.0001, warm_start=False)"
            ]
          },
          "metadata": {
            "tags": []
          },
          "execution_count": 38
        }
      ]
    },
    {
      "cell_type": "code",
      "metadata": {
        "colab": {
          "base_uri": "https://localhost:8080/"
        },
        "id": "UX4WeFdNE9Z7",
        "outputId": "3121ab94-4c27-4f83-c43e-68a0b1fb6507"
      },
      "source": [
        "lasso_model.coef_"
      ],
      "execution_count": 40,
      "outputs": [
        {
          "output_type": "execute_result",
          "data": {
            "text/plain": [
              "array([-1.72206506e+00,  8.56210197e+00,  6.91175137e+00, -3.13240128e+00,\n",
              "       -2.00771676e+00,  5.36159035e+00,  8.86871593e+00, -1.69520371e-01,\n",
              "       -5.58121413e-02, -3.53962588e-01,  1.70961000e+00,  6.40603469e-01,\n",
              "       -6.58519895e-01,  2.60093222e-01,  2.78717030e-01, -5.92690965e-01,\n",
              "        1.12659630e+02, -9.99652090e+01, -4.81289395e+01])"
            ]
          },
          "metadata": {
            "tags": []
          },
          "execution_count": 40
        }
      ]
    },
    {
      "cell_type": "code",
      "metadata": {
        "id": "HysDozVYE_ZT"
      },
      "source": [
        "lasso = Lasso()\n",
        "lambdalar = 10**np.linspace(10,-2,100)*0.5 \n",
        "katsayilar = []\n",
        "\n",
        "for i in lambdalar:\n",
        "    lasso.set_params(alpha=i)\n",
        "    lasso.fit(X_train, y_train)\n",
        "    katsayilar.append(lasso.coef_)\n",
        "    \n",
        "ax = plt.gca()\n",
        "ax.plot(lambdalar*2, katsayilar)\n",
        "ax.set_xscale('log')\n",
        "plt.axis('tight')\n",
        "plt.xlabel('alpha')\n",
        "plt.ylabel('weights');"
      ],
      "execution_count": null,
      "outputs": []
    },
    {
      "cell_type": "markdown",
      "metadata": {
        "id": "c9q65ZFYGDYW"
      },
      "source": [
        "**2.1 Lasso: Tahmin (Predict)**"
      ]
    },
    {
      "cell_type": "code",
      "metadata": {
        "colab": {
          "base_uri": "https://localhost:8080/"
        },
        "id": "LIKdIWnpFijb",
        "outputId": "5bd6952b-8d88-4a13-85ef-753db80c6bbf"
      },
      "source": [
        "lasso_model.predict(X_test)"
      ],
      "execution_count": 44,
      "outputs": [
        {
          "output_type": "execute_result",
          "data": {
            "text/plain": [
              "array([ 613.88833029,  701.97056731, 1005.55539526,  414.08312603,\n",
              "        399.18417127,  344.71444139,  664.86990217,  451.60757   ,\n",
              "        914.64492066,  644.67006406,  691.60613554,  884.71702368,\n",
              "        210.04523766,  446.12527252,  262.94922087,  499.22332142,\n",
              "        805.2275034 ,   43.49230343, 1250.49322312,  316.34470193,\n",
              "        422.96656686,  743.29944548,  572.90774248,  655.15609074,\n",
              "        618.96407069,  200.75845796,  882.64622066,  254.06366112,\n",
              "        430.25494812,   84.17391461,  143.60312305,  130.61554   ,\n",
              "        363.74498233,  461.7321162 ,  273.42345417,  244.49816262,\n",
              "       1324.62748553,  107.89909718,  135.63065031,  242.72630885,\n",
              "         51.70024086,  297.57598929,  586.86143037,  398.85227639,\n",
              "        763.99543074,  690.10003532,  344.06272851,  247.43966241,\n",
              "        255.13234043,  662.89091837,  765.66189   ,  313.57347726,\n",
              "        765.84996179,  189.77235179,  283.98765436,  589.95238974,\n",
              "        663.31166365,  803.29524626,  164.99767232, 1170.24294111,\n",
              "       1672.69404705,  412.55338226,  993.80264541,  485.53522233,\n",
              "        567.84477674,  188.34982561])"
            ]
          },
          "metadata": {
            "tags": []
          },
          "execution_count": 44
        }
      ]
    },
    {
      "cell_type": "code",
      "metadata": {
        "colab": {
          "base_uri": "https://localhost:8080/"
        },
        "id": "Ujnr_duKGPQ7",
        "outputId": "d99b974f-d1fd-42a6-f08c-e347ba2888a9"
      },
      "source": [
        "y_pred = lasso_model.predict(X_test)\n",
        "np.sqrt(mean_squared_error(y_test,lasso_model.predict(X_test)))"
      ],
      "execution_count": 45,
      "outputs": [
        {
          "output_type": "execute_result",
          "data": {
            "text/plain": [
              "356.7545270148768"
            ]
          },
          "metadata": {
            "tags": []
          },
          "execution_count": 45
        }
      ]
    },
    {
      "cell_type": "markdown",
      "metadata": {
        "id": "Iiyay364GdqQ"
      },
      "source": [
        "**2.2 Lasso: Model Tuning**"
      ]
    },
    {
      "cell_type": "code",
      "metadata": {
        "id": "Bu1g_kSmGZnK"
      },
      "source": [
        "from sklearn.linear_model import LassoCV"
      ],
      "execution_count": 46,
      "outputs": []
    },
    {
      "cell_type": "code",
      "metadata": {
        "colab": {
          "base_uri": "https://localhost:8080/"
        },
        "id": "LUGOwAR-GjyC",
        "outputId": "4fe071e7-2fd9-4c1d-b36a-89621d67acac"
      },
      "source": [
        "lasso_cv_model = LassoCV(alphas=None,\n",
        "                         cv=10,\n",
        "                         max_iter=10000,\n",
        "                         normalize = True).fit(X_train,y_train)\n",
        "\n",
        "lasso_cv_model"
      ],
      "execution_count": 48,
      "outputs": [
        {
          "output_type": "execute_result",
          "data": {
            "text/plain": [
              "LassoCV(alphas=None, copy_X=True, cv=10, eps=0.001, fit_intercept=True,\n",
              "        max_iter=10000, n_alphas=100, n_jobs=None, normalize=True,\n",
              "        positive=False, precompute='auto', random_state=None,\n",
              "        selection='cyclic', tol=0.0001, verbose=False)"
            ]
          },
          "metadata": {
            "tags": []
          },
          "execution_count": 48
        }
      ]
    },
    {
      "cell_type": "code",
      "metadata": {
        "colab": {
          "base_uri": "https://localhost:8080/"
        },
        "id": "dEE-Q3flGukb",
        "outputId": "24d752d1-4f31-474f-de60-01d864f1816e"
      },
      "source": [
        "lasso_cv_model.alpha_"
      ],
      "execution_count": 49,
      "outputs": [
        {
          "output_type": "execute_result",
          "data": {
            "text/plain": [
              "0.39406126432470073"
            ]
          },
          "metadata": {
            "tags": []
          },
          "execution_count": 49
        }
      ]
    },
    {
      "cell_type": "code",
      "metadata": {
        "id": "pmTdVH8NGyzj"
      },
      "source": [
        "lasso_tuned = Lasso(alpha=lasso_cv_model.alpha_)"
      ],
      "execution_count": 51,
      "outputs": []
    },
    {
      "cell_type": "code",
      "metadata": {
        "colab": {
          "base_uri": "https://localhost:8080/"
        },
        "id": "xID7zWcIHHZS",
        "outputId": "90821934-0ba0-4c10-e358-374f35c529e0"
      },
      "source": [
        "lasso_tuned.fit(X_train,y_train)"
      ],
      "execution_count": 55,
      "outputs": [
        {
          "output_type": "stream",
          "text": [
            "/usr/local/lib/python3.7/dist-packages/sklearn/linear_model/_coordinate_descent.py:476: ConvergenceWarning: Objective did not converge. You might want to increase the number of iterations. Duality gap: 8252823.943523982, tolerance: 3898.6869563806586\n",
            "  positive)\n"
          ],
          "name": "stderr"
        },
        {
          "output_type": "execute_result",
          "data": {
            "text/plain": [
              "Lasso(alpha=0.39406126432470073, copy_X=True, fit_intercept=True, max_iter=1000,\n",
              "      normalize=False, positive=False, precompute=False, random_state=None,\n",
              "      selection='cyclic', tol=0.0001, warm_start=False)"
            ]
          },
          "metadata": {
            "tags": []
          },
          "execution_count": 55
        }
      ]
    },
    {
      "cell_type": "code",
      "metadata": {
        "colab": {
          "base_uri": "https://localhost:8080/"
        },
        "id": "emYpfNqVHLYS",
        "outputId": "8cc36c47-42da-4372-c4f2-138f44e963fa"
      },
      "source": [
        "y_pred = lasso_tuned.predict(X_test)\n",
        "np.sqrt(mean_squared_error(y_test, lasso_tuned.predict(X_test)))"
      ],
      "execution_count": 57,
      "outputs": [
        {
          "output_type": "execute_result",
          "data": {
            "text/plain": [
              "356.52263769583686"
            ]
          },
          "metadata": {
            "tags": []
          },
          "execution_count": 57
        }
      ]
    },
    {
      "cell_type": "markdown",
      "metadata": {
        "id": "1EXBoajoHoEV"
      },
      "source": [
        "### 3. ElasticNet Regression"
      ]
    },
    {
      "cell_type": "code",
      "metadata": {
        "id": "yHyTMrYtHYHL"
      },
      "source": [
        "hit = pd.read_csv(\"Hitters.csv\")\n",
        "df = hit.copy()\n",
        "df = df.dropna()\n",
        "ms = pd.get_dummies(df[['League', 'Division', 'NewLeague']])\n",
        "y = df[\"Salary\"]\n",
        "X_ = df.drop(['Salary', 'League', 'Division', 'NewLeague'], axis=1).astype('float64')\n",
        "X = pd.concat([X_, dms[['League_N', 'Division_W', 'NewLeague_N']]], axis=1)\n",
        "X_train, X_test, y_train, y_test = train_test_split(X, y, \n",
        "                                                    test_size=0.25, \n",
        "                                                    random_state=42)"
      ],
      "execution_count": 58,
      "outputs": []
    },
    {
      "cell_type": "code",
      "metadata": {
        "colab": {
          "base_uri": "https://localhost:8080/"
        },
        "id": "hkYZvpcWHu8T",
        "outputId": "3c9343b0-9071-4961-d185-5d222a2fd397"
      },
      "source": [
        "from sklearn.linear_model import ElasticNet\n",
        "enet_model = ElasticNet().fit(X_train,y_train)\n",
        "enet_model.coef_"
      ],
      "execution_count": 60,
      "outputs": [
        {
          "output_type": "stream",
          "text": [
            "/usr/local/lib/python3.7/dist-packages/sklearn/linear_model/_coordinate_descent.py:476: ConvergenceWarning: Objective did not converge. You might want to increase the number of iterations. Duality gap: 8487984.799367338, tolerance: 3898.6869563806586\n",
            "  positive)\n"
          ],
          "name": "stderr"
        },
        {
          "output_type": "execute_result",
          "data": {
            "text/plain": [
              "array([ -1.86256172,   8.70489065,   5.10426375,  -2.89875799,\n",
              "        -1.28642985,   5.24343682,   6.04480276,  -0.14701495,\n",
              "        -0.21566628,  -0.7897201 ,   1.80813117,   0.80914508,\n",
              "        -0.61262382,   0.26816203,   0.27172387,  -0.36530729,\n",
              "        19.2186222 , -31.16586592,   8.98369938])"
            ]
          },
          "metadata": {
            "tags": []
          },
          "execution_count": 60
        }
      ]
    },
    {
      "cell_type": "code",
      "metadata": {
        "colab": {
          "base_uri": "https://localhost:8080/"
        },
        "id": "xOFhLw9bH2rK",
        "outputId": "1400b067-1d3e-4aec-92b8-ab8823d39e35"
      },
      "source": [
        "enet_model.intercept_"
      ],
      "execution_count": 61,
      "outputs": [
        {
          "output_type": "execute_result",
          "data": {
            "text/plain": [
              "-6.465955602112217"
            ]
          },
          "metadata": {
            "tags": []
          },
          "execution_count": 61
        }
      ]
    },
    {
      "cell_type": "markdown",
      "metadata": {
        "id": "a9uye_tzH-yJ"
      },
      "source": [
        "**3.1 ElasticNet: Tahmin (Prediction)**"
      ]
    },
    {
      "cell_type": "code",
      "metadata": {
        "colab": {
          "base_uri": "https://localhost:8080/"
        },
        "id": "odh3wRirH72j",
        "outputId": "e2925371-1577-4328-de4c-4a4c9928aef2"
      },
      "source": [
        "enet_model.predict(X_test)"
      ],
      "execution_count": 62,
      "outputs": [
        {
          "output_type": "execute_result",
          "data": {
            "text/plain": [
              "array([ 577.79111731,  617.33202224, 1031.39113156,  364.95861575,\n",
              "        489.51894393,  300.74185842,  604.522666  ,  465.34678732,\n",
              "        901.44473965,  703.20357123,  702.9157117 ,  931.50283407,\n",
              "        184.87939803,  385.14973787,  325.38944176,  546.99346574,\n",
              "        774.28001821,  101.83114992, 1250.86758812,  370.67651244,\n",
              "        442.05734523,  781.17288513,  578.63736538,  609.31927808,\n",
              "        608.31719597,  227.46556223,  921.85505228,  301.1202457 ,\n",
              "        386.31721051,  133.61143326,  162.28505608,   88.29793182,\n",
              "        359.9068418 ,  422.51268445,  265.8663769 ,  355.70450908,\n",
              "       1329.36312363,  125.05506935,   82.74580002,  269.17483075,\n",
              "        117.13319397,  274.13484779,  648.4957249 ,  409.47065999,\n",
              "        846.27919406,  712.04817644,  341.10596674,  368.24259678,\n",
              "        305.70477656,  680.05724792,  716.13640636,  295.93204262,\n",
              "        773.06445823,  249.28224916,  221.46794589,  541.2713245 ,\n",
              "        611.50212372,  770.80228024,  168.45143906, 1159.05660731,\n",
              "       1655.73440058,  487.79019015, 1013.23932071,  443.91500502,\n",
              "        613.83293616,  152.85401115])"
            ]
          },
          "metadata": {
            "tags": []
          },
          "execution_count": 62
        }
      ]
    },
    {
      "cell_type": "code",
      "metadata": {
        "colab": {
          "base_uri": "https://localhost:8080/"
        },
        "id": "iir4-iSlIIjS",
        "outputId": "8779b52a-f5dd-469a-f342-8964c0670622"
      },
      "source": [
        "y_pred = enet_model.predict(X_test)\n",
        "np.sqrt(mean_squared_error(y_test,y_pred))"
      ],
      "execution_count": 63,
      "outputs": [
        {
          "output_type": "execute_result",
          "data": {
            "text/plain": [
              "357.1676548181244"
            ]
          },
          "metadata": {
            "tags": []
          },
          "execution_count": 63
        }
      ]
    },
    {
      "cell_type": "code",
      "metadata": {
        "colab": {
          "base_uri": "https://localhost:8080/"
        },
        "id": "55UWJu_xIPBi",
        "outputId": "ae57d5ab-f36e-4703-cae2-b22d23340054"
      },
      "source": [
        "from sklearn.metrics import r2_score\n",
        "r2_score(y_test,y_pred)"
      ],
      "execution_count": 65,
      "outputs": [
        {
          "output_type": "execute_result",
          "data": {
            "text/plain": [
              "0.41070222469326934"
            ]
          },
          "metadata": {
            "tags": []
          },
          "execution_count": 65
        }
      ]
    },
    {
      "cell_type": "markdown",
      "metadata": {
        "id": "SEjd5750IYcJ"
      },
      "source": [
        "**3.2 ElasticNet: Model Tuning**"
      ]
    },
    {
      "cell_type": "code",
      "metadata": {
        "id": "iyCPcAuNIRzq"
      },
      "source": [
        "from sklearn.linear_model import ElasticNetCV"
      ],
      "execution_count": 66,
      "outputs": []
    },
    {
      "cell_type": "code",
      "metadata": {
        "id": "BFAJArwnIe_b"
      },
      "source": [
        "enet_cv_model = ElasticNetCV(cv=10,random_state=0).fit(X_train,y_train)"
      ],
      "execution_count": 67,
      "outputs": []
    },
    {
      "cell_type": "code",
      "metadata": {
        "colab": {
          "base_uri": "https://localhost:8080/"
        },
        "id": "1JhujSplIll7",
        "outputId": "c69601aa-03d4-4e53-b22c-211696833a0d"
      },
      "source": [
        "enet_cv_model.alpha_"
      ],
      "execution_count": 68,
      "outputs": [
        {
          "output_type": "execute_result",
          "data": {
            "text/plain": [
              "5230.7647364798695"
            ]
          },
          "metadata": {
            "tags": []
          },
          "execution_count": 68
        }
      ]
    },
    {
      "cell_type": "code",
      "metadata": {
        "id": "YwVM5jKHInBS"
      },
      "source": [
        "enet_tuned = ElasticNet(alpha=enet_cv_model.alpha_).fit(X_train,y_train)"
      ],
      "execution_count": 69,
      "outputs": []
    },
    {
      "cell_type": "code",
      "metadata": {
        "colab": {
          "base_uri": "https://localhost:8080/"
        },
        "id": "LzHXYfMuIwCi",
        "outputId": "0e7d6d3b-6ad2-47a6-ddb8-0660cc575aea"
      },
      "source": [
        "y_pred = enet_cv_model.predict(X_test)\n",
        "np.sqrt(mean_squared_error(y_test,y_pred))"
      ],
      "execution_count": 70,
      "outputs": [
        {
          "output_type": "execute_result",
          "data": {
            "text/plain": [
              "394.15280563218795"
            ]
          },
          "metadata": {
            "tags": []
          },
          "execution_count": 70
        }
      ]
    },
    {
      "cell_type": "code",
      "metadata": {
        "id": "ijkR86WaI2Ai"
      },
      "source": [
        ""
      ],
      "execution_count": null,
      "outputs": []
    }
  ]
}