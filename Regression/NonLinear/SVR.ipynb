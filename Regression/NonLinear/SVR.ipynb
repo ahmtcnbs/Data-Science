{
 "cells": [
  {
   "cell_type": "markdown",
   "metadata": {},
   "source": [
    "# SVR (Destek Vektör Regresyonu)\n",
    "\n",
    "Amaç bir marjin aralığında maksimum noktayı en küçük hata ile doğruyu ya da eğriyi tanımlamaktır."
   ]
  },
  {
   "cell_type": "code",
   "execution_count": 2,
   "metadata": {},
   "outputs": [],
   "source": [
    "import numpy as np\n",
    "import pandas as pd \n",
    "from sklearn.model_selection import train_test_split, GridSearchCV,cross_val_score\n",
    "from sklearn.metrics import mean_squared_error, r2_score\n",
    "import matplotlib.pyplot as plt\n",
    "from sklearn import model_selection"
   ]
  },
  {
   "cell_type": "code",
   "execution_count": 3,
   "metadata": {},
   "outputs": [],
   "source": [
    "np.random.seed(3)\n",
    "\n",
    "x_sim = np.random.uniform(2, 10, 145)\n",
    "y_sim = np.sin(x_sim) + np.random.normal(0, 0.4, 145)\n",
    "\n",
    "x_outliers = np.arange(2.5, 5, 0.5)\n",
    "y_outliers = -5*np.ones(5)\n",
    "\n",
    "x_sim_idx = np.argsort(np.concatenate([x_sim, x_outliers]))\n",
    "x_sim = np.concatenate([x_sim, x_outliers])[x_sim_idx]\n",
    "y_sim = np.concatenate([y_sim, y_outliers])[x_sim_idx]"
   ]
  },
  {
   "cell_type": "code",
   "execution_count": 5,
   "metadata": {},
   "outputs": [],
   "source": [
    "from sklearn.linear_model import LinearRegression\n",
    "ols = LinearRegression()\n",
    "ols.fit(np.sin(x_sim[:, np.newaxis]), y_sim)\n",
    "ols_pred = ols.predict(np.sin(x_sim[:, np.newaxis]))\n",
    "\n",
    "from sklearn.svm import SVR\n",
    "eps = 0.1\n",
    "svr = SVR('rbf', epsilon = eps)\n",
    "svr.fit(x_sim[:, np.newaxis], y_sim)\n",
    "svr_pred = svr.predict(x_sim[:, np.newaxis])"
   ]
  },
  {
   "cell_type": "code",
   "execution_count": 17,
   "metadata": {},
   "outputs": [
    {
     "data": {
      "image/png": "[encoded data removed]",
      "text/plain": [
       "<Figure size 432x288 with 1 Axes>"
      ]
     },
     "metadata": {
      "needs_background": "light"
     },
     "output_type": "display_data"
    }
   ],
   "source": [
    "plt.scatter(x_sim, y_sim, alpha=0.5, s=26)\n",
    "plt_ols, = plt.plot(x_sim, ols_pred, 'g')\n",
    "plt_svr, = plt.plot(x_sim, svr_pred, color='r')\n",
    "plt.xlabel(\"Bağımsız Değişken\")\n",
    "plt.ylabel(\"Bağımlı Değişken\")\n",
    "plt.ylim(-5.2, 2.2)\n",
    "plt.legend([plt_ols, plt_svr], ['EKK', 'SVR'], loc = 4);\n",
    "hit = pd.read_csv(\"Hitters.csv\")\n",
    "df = hit.copy()\n",
    "df = df.dropna()\n",
    "dms = pd.get_dummies(df[['League', 'Division', 'NewLeague']])\n",
    "y = df[\"Salary\"]\n",
    "X_ = df.drop(['Salary', 'League', 'Division', 'NewLeague'], axis=1).astype('float64')\n",
    "X = pd.concat([X_, dms[['League_N', 'Division_W', 'NewLeague_N']]], axis=1)\n",
    "X_train, X_test, y_train, y_test = train_test_split(X, y, \n",
    "                                                    test_size=0.25, random_state=42)"
   ]
  },
  {
   "cell_type": "code",
   "execution_count": 7,
   "metadata": {},
   "outputs": [],
   "source": [
    "svr_rbf = SVR(\"rbf\").fit(X_train, y_train)"
   ]
  },
  {
   "cell_type": "code",
   "execution_count": 10,
   "metadata": {},
   "outputs": [
    {
     "data": {
      "text/plain": [
       "460.0032657244849"
      ]
     },
     "execution_count": 10,
     "metadata": {},
     "output_type": "execute_result"
    }
   ],
   "source": [
    "# Tahmin\n",
    "\n",
    "y_pred = svr_rbf.predict(X_test)\n",
    "np.sqrt(mean_squared_error(y_test, y_pred))"
   ]
  },
  {
   "cell_type": "code",
   "execution_count": 12,
   "metadata": {},
   "outputs": [
    {
     "data": {
      "text/plain": [
       "GridSearchCV(cv=10, error_score=nan,\n",
       "             estimator=SVR(C=1.0, cache_size=200, coef0=0.0, degree=3,\n",
       "                           epsilon=0.1, gamma='scale', kernel='rbf',\n",
       "                           max_iter=-1, shrinking=True, tol=0.001,\n",
       "                           verbose=False),\n",
       "             iid='deprecated', n_jobs=None,\n",
       "             param_grid={'C': [0.01, 0.1, 0.4, 5, 10, 20, 30, 40, 50]},\n",
       "             pre_dispatch='2*n_jobs', refit=True, return_train_score=False,\n",
       "             scoring=None, verbose=0)"
      ]
     },
     "execution_count": 12,
     "metadata": {},
     "output_type": "execute_result"
    }
   ],
   "source": [
    "svr_rbf\n",
    "svr_params = {\"C\": [0.01, 0.1,0.4,5,10,20,30,40,50]}\n",
    "svr_cv_model = GridSearchCV(svr_rbf,svr_params, cv = 10)\n",
    "svr_cv_model.fit(X_train, y_train)"
   ]
  },
  {
   "cell_type": "code",
   "execution_count": 13,
   "metadata": {},
   "outputs": [
    {
     "data": {
      "text/plain": [
       "50"
      ]
     },
     "execution_count": 13,
     "metadata": {},
     "output_type": "execute_result"
    }
   ],
   "source": [
    "pd.Series(svr_cv_model.best_params_)[0]"
   ]
  },
  {
   "cell_type": "code",
   "execution_count": 15,
   "metadata": {},
   "outputs": [],
   "source": [
    "svr_tuned = SVR(\"rbf\", C = pd.Series(svr_cv_model.best_params_)[0]).fit(X_train, \n",
    "                                                                        y_train)"
   ]
  },
  {
   "cell_type": "code",
   "execution_count": 18,
   "metadata": {},
   "outputs": [
    {
     "data": {
      "text/plain": [
       "428.00406888095694"
      ]
     },
     "execution_count": 18,
     "metadata": {},
     "output_type": "execute_result"
    }
   ],
   "source": [
    "y_pred = svr_tuned.predict(X_test)\n",
    "\n",
    "np.sqrt(mean_squared_error(y_test, y_pred))"
   ]
  },
  {
   "cell_type": "code",
   "execution_count": null,
   "metadata": {},
   "outputs": [],
   "source": []
  }
 ],
 "metadata": {
  "kernelspec": {
   "display_name": "Python 3",
   "language": "python",
   "name": "python3"
  },
  "language_info": {
   "codemirror_mode": {
    "name": "ipython",
    "version": 3
   },
   "file_extension": ".py",
   "mimetype": "text/x-python",
   "name": "python",
   "nbconvert_exporter": "python",
   "pygments_lexer": "ipython3",
   "version": "3.7.6"
  }
 },
 "nbformat": 4,
 "nbformat_minor": 4
}
